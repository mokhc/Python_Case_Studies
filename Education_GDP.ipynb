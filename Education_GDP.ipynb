{
 "cells": [
  {
   "cell_type": "code",
   "execution_count": 181,
   "metadata": {
    "collapsed": true
   },
   "outputs": [],
   "source": [
    "import pandas as pan\n",
    "import numpy as num\n",
    "import matplotlib.pyplot as mat\n",
    "import os"
   ]
  },
  {
   "cell_type": "code",
   "execution_count": 182,
   "outputs": [],
   "source": [
    "# Get the current working directory\n",
    "wd = os.getcwd()"
   ],
   "metadata": {
    "collapsed": false,
    "pycharm": {
     "name": "#%%\n"
    }
   }
  },
  {
   "cell_type": "markdown",
   "source": [
    "### This case study tries to explore the relationship between government expenditure on education and the GDP of a country. We will be using the following two sets of data:\n",
    "#### https://ourworldindata.org/grapher/total-government-expenditure-on-education-gdp\n",
    "#### https://ourworldindata.org/grapher/gdp-per-capita-worldbank"
   ],
   "metadata": {
    "collapsed": false,
    "pycharm": {
     "name": "#%% md\n"
    }
   }
  },
  {
   "cell_type": "code",
   "execution_count": 183,
   "outputs": [],
   "source": [
    "# scenario 1 - using the mean expenditure and mean GDP of selected countries"
   ],
   "metadata": {
    "collapsed": false,
    "pycharm": {
     "name": "#%%\n"
    }
   }
  },
  {
   "cell_type": "code",
   "execution_count": 184,
   "outputs": [],
   "source": [
    "# https://ourworldindata.org/grapher/total-government-expenditure-on-education-gdp\n",
    "# Get the expenditure data\n",
    "df1 = pan.read_csv(\"total-government-expenditure-on-education-gdp.csv\")"
   ],
   "metadata": {
    "collapsed": false,
    "pycharm": {
     "name": "#%%\n"
    }
   }
  },
  {
   "cell_type": "code",
   "execution_count": 185,
   "outputs": [
    {
     "data": {
      "text/plain": "        Entity Code  Year  \\\n0  Afghanistan  AFG  1971   \n1  Afghanistan  AFG  1972   \n2  Afghanistan  AFG  1973   \n3  Afghanistan  AFG  1975   \n4  Afghanistan  AFG  1979   \n\n   Government expenditure on education, total (% of GDP)  \n0                                            1.16036      \n1                                            1.11718      \n2                                            1.42788      \n3                                            1.30332      \n4                                            1.73981      ",
      "text/html": "<div>\n<style scoped>\n    .dataframe tbody tr th:only-of-type {\n        vertical-align: middle;\n    }\n\n    .dataframe tbody tr th {\n        vertical-align: top;\n    }\n\n    .dataframe thead th {\n        text-align: right;\n    }\n</style>\n<table border=\"1\" class=\"dataframe\">\n  <thead>\n    <tr style=\"text-align: right;\">\n      <th></th>\n      <th>Entity</th>\n      <th>Code</th>\n      <th>Year</th>\n      <th>Government expenditure on education, total (% of GDP)</th>\n    </tr>\n  </thead>\n  <tbody>\n    <tr>\n      <th>0</th>\n      <td>Afghanistan</td>\n      <td>AFG</td>\n      <td>1971</td>\n      <td>1.16036</td>\n    </tr>\n    <tr>\n      <th>1</th>\n      <td>Afghanistan</td>\n      <td>AFG</td>\n      <td>1972</td>\n      <td>1.11718</td>\n    </tr>\n    <tr>\n      <th>2</th>\n      <td>Afghanistan</td>\n      <td>AFG</td>\n      <td>1973</td>\n      <td>1.42788</td>\n    </tr>\n    <tr>\n      <th>3</th>\n      <td>Afghanistan</td>\n      <td>AFG</td>\n      <td>1975</td>\n      <td>1.30332</td>\n    </tr>\n    <tr>\n      <th>4</th>\n      <td>Afghanistan</td>\n      <td>AFG</td>\n      <td>1979</td>\n      <td>1.73981</td>\n    </tr>\n  </tbody>\n</table>\n</div>"
     },
     "execution_count": 185,
     "metadata": {},
     "output_type": "execute_result"
    }
   ],
   "source": [
    "df1.head()"
   ],
   "metadata": {
    "collapsed": false,
    "pycharm": {
     "name": "#%%\n"
    }
   }
  },
  {
   "cell_type": "code",
   "execution_count": 186,
   "outputs": [
    {
     "data": {
      "text/plain": "(4849, 4)"
     },
     "execution_count": 186,
     "metadata": {},
     "output_type": "execute_result"
    }
   ],
   "source": [
    "df1.shape"
   ],
   "metadata": {
    "collapsed": false,
    "pycharm": {
     "name": "#%%\n"
    }
   }
  },
  {
   "cell_type": "code",
   "execution_count": 187,
   "outputs": [
    {
     "data": {
      "text/plain": "Entity                                                    object\nCode                                                      object\nYear                                                       int64\nGovernment expenditure on education, total (% of GDP)    float64\ndtype: object"
     },
     "execution_count": 187,
     "metadata": {},
     "output_type": "execute_result"
    }
   ],
   "source": [
    "df1.dtypes"
   ],
   "metadata": {
    "collapsed": false,
    "pycharm": {
     "name": "#%%\n"
    }
   }
  },
  {
   "cell_type": "code",
   "execution_count": 188,
   "outputs": [
    {
     "data": {
      "text/plain": "Entity                                                    243\nCode                                                      197\nYear                                                       50\nGovernment expenditure on education, total (% of GDP)    4238\ndtype: int64"
     },
     "execution_count": 188,
     "metadata": {},
     "output_type": "execute_result"
    }
   ],
   "source": [
    "df1.nunique()"
   ],
   "metadata": {
    "collapsed": false,
    "pycharm": {
     "name": "#%%\n"
    }
   }
  },
  {
   "cell_type": "code",
   "execution_count": 189,
   "outputs": [
    {
     "data": {
      "text/plain": "Switzerland          46\nAustria              46\nNetherlands          45\nNorway               45\nIreland              45\n                     ..\nLibya                 1\nEquatorial Guinea     1\nNauru                 1\nTurkmenistan          1\nCuracao               1\nName: Entity, Length: 243, dtype: int64"
     },
     "execution_count": 189,
     "metadata": {},
     "output_type": "execute_result"
    }
   ],
   "source": [
    "entity1 = df1[\"Entity\"].value_counts()\n",
    "entity1"
   ],
   "metadata": {
    "collapsed": false,
    "pycharm": {
     "name": "#%%\n"
    }
   }
  },
  {
   "cell_type": "code",
   "execution_count": 190,
   "outputs": [
    {
     "data": {
      "text/plain": "                             Government expenditure on education, total (% of GDP)\nEntity                                                                            \nAfghanistan                                                           2.529187    \nAfrica Eastern and Southern                                           4.395773    \nAfrica Western and Central                                            2.993186    \nAlbania                                                               3.418164    \nAlgeria                                                               6.038817    \n...                                                                        ...    \nVietnam                                                               4.918966    \nWorld                                                                 4.263374    \nYemen                                                                 8.011537    \nZambia                                                                3.729464    \nZimbabwe                                                              9.576959    \n\n[243 rows x 1 columns]",
      "text/html": "<div>\n<style scoped>\n    .dataframe tbody tr th:only-of-type {\n        vertical-align: middle;\n    }\n\n    .dataframe tbody tr th {\n        vertical-align: top;\n    }\n\n    .dataframe thead th {\n        text-align: right;\n    }\n</style>\n<table border=\"1\" class=\"dataframe\">\n  <thead>\n    <tr style=\"text-align: right;\">\n      <th></th>\n      <th>Government expenditure on education, total (% of GDP)</th>\n    </tr>\n    <tr>\n      <th>Entity</th>\n      <th></th>\n    </tr>\n  </thead>\n  <tbody>\n    <tr>\n      <th>Afghanistan</th>\n      <td>2.529187</td>\n    </tr>\n    <tr>\n      <th>Africa Eastern and Southern</th>\n      <td>4.395773</td>\n    </tr>\n    <tr>\n      <th>Africa Western and Central</th>\n      <td>2.993186</td>\n    </tr>\n    <tr>\n      <th>Albania</th>\n      <td>3.418164</td>\n    </tr>\n    <tr>\n      <th>Algeria</th>\n      <td>6.038817</td>\n    </tr>\n    <tr>\n      <th>...</th>\n      <td>...</td>\n    </tr>\n    <tr>\n      <th>Vietnam</th>\n      <td>4.918966</td>\n    </tr>\n    <tr>\n      <th>World</th>\n      <td>4.263374</td>\n    </tr>\n    <tr>\n      <th>Yemen</th>\n      <td>8.011537</td>\n    </tr>\n    <tr>\n      <th>Zambia</th>\n      <td>3.729464</td>\n    </tr>\n    <tr>\n      <th>Zimbabwe</th>\n      <td>9.576959</td>\n    </tr>\n  </tbody>\n</table>\n<p>243 rows × 1 columns</p>\n</div>"
     },
     "execution_count": 190,
     "metadata": {},
     "output_type": "execute_result"
    }
   ],
   "source": [
    "expenditure1 = df1.groupby([\"Entity\"])[[\"Government expenditure on education, total (% of GDP)\"]].agg(num.mean)\n",
    "expenditure1"
   ],
   "metadata": {
    "collapsed": false,
    "pycharm": {
     "name": "#%%\n"
    }
   }
  },
  {
   "cell_type": "code",
   "execution_count": 191,
   "outputs": [
    {
     "data": {
      "text/plain": "                          Entity  \\\n0                    Afghanistan   \n1    Africa Eastern and Southern   \n2     Africa Western and Central   \n3                        Albania   \n4                        Algeria   \n..                           ...   \n238                      Vietnam   \n239                        World   \n240                        Yemen   \n241                       Zambia   \n242                     Zimbabwe   \n\n     Government expenditure on education, total (% of GDP)  \n0                                             2.529187      \n1                                             4.395773      \n2                                             2.993186      \n3                                             3.418164      \n4                                             6.038817      \n..                                                 ...      \n238                                           4.918966      \n239                                           4.263374      \n240                                           8.011537      \n241                                           3.729464      \n242                                           9.576959      \n\n[243 rows x 2 columns]",
      "text/html": "<div>\n<style scoped>\n    .dataframe tbody tr th:only-of-type {\n        vertical-align: middle;\n    }\n\n    .dataframe tbody tr th {\n        vertical-align: top;\n    }\n\n    .dataframe thead th {\n        text-align: right;\n    }\n</style>\n<table border=\"1\" class=\"dataframe\">\n  <thead>\n    <tr style=\"text-align: right;\">\n      <th></th>\n      <th>Entity</th>\n      <th>Government expenditure on education, total (% of GDP)</th>\n    </tr>\n  </thead>\n  <tbody>\n    <tr>\n      <th>0</th>\n      <td>Afghanistan</td>\n      <td>2.529187</td>\n    </tr>\n    <tr>\n      <th>1</th>\n      <td>Africa Eastern and Southern</td>\n      <td>4.395773</td>\n    </tr>\n    <tr>\n      <th>2</th>\n      <td>Africa Western and Central</td>\n      <td>2.993186</td>\n    </tr>\n    <tr>\n      <th>3</th>\n      <td>Albania</td>\n      <td>3.418164</td>\n    </tr>\n    <tr>\n      <th>4</th>\n      <td>Algeria</td>\n      <td>6.038817</td>\n    </tr>\n    <tr>\n      <th>...</th>\n      <td>...</td>\n      <td>...</td>\n    </tr>\n    <tr>\n      <th>238</th>\n      <td>Vietnam</td>\n      <td>4.918966</td>\n    </tr>\n    <tr>\n      <th>239</th>\n      <td>World</td>\n      <td>4.263374</td>\n    </tr>\n    <tr>\n      <th>240</th>\n      <td>Yemen</td>\n      <td>8.011537</td>\n    </tr>\n    <tr>\n      <th>241</th>\n      <td>Zambia</td>\n      <td>3.729464</td>\n    </tr>\n    <tr>\n      <th>242</th>\n      <td>Zimbabwe</td>\n      <td>9.576959</td>\n    </tr>\n  </tbody>\n</table>\n<p>243 rows × 2 columns</p>\n</div>"
     },
     "execution_count": 191,
     "metadata": {},
     "output_type": "execute_result"
    }
   ],
   "source": [
    "expenditure1 = expenditure1.sort_values(by=\"Entity\",ascending=True).reset_index()\n",
    "expenditure1"
   ],
   "metadata": {
    "collapsed": false,
    "pycharm": {
     "name": "#%%\n"
    }
   }
  },
  {
   "cell_type": "code",
   "execution_count": 192,
   "outputs": [],
   "source": [
    "# save as csv file\n",
    "expenditure1.to_csv(\"rankbyexpenditure.csv\", index=False)"
   ],
   "metadata": {
    "collapsed": false,
    "pycharm": {
     "name": "#%%\n"
    }
   }
  },
  {
   "cell_type": "code",
   "execution_count": 193,
   "outputs": [],
   "source": [
    "# https://ourworldindata.org/grapher/gdp-per-capita-worldbank\n",
    "# Get the GDP data\n",
    "df2 = pan.read_csv(\"gdp-per-capita-worldbank.csv\")"
   ],
   "metadata": {
    "collapsed": false,
    "pycharm": {
     "name": "#%%\n"
    }
   }
  },
  {
   "cell_type": "code",
   "execution_count": 194,
   "outputs": [
    {
     "data": {
      "text/plain": "        Entity Code  Year  GDP per capita, PPP (constant 2017 international $)\n0  Afghanistan  AFG  2002                                        1189.784668  \n1  Afghanistan  AFG  2003                                        1235.810063  \n2  Afghanistan  AFG  2004                                        1200.278013  \n3  Afghanistan  AFG  2005                                        1286.793659  \n4  Afghanistan  AFG  2006                                        1315.789117  ",
      "text/html": "<div>\n<style scoped>\n    .dataframe tbody tr th:only-of-type {\n        vertical-align: middle;\n    }\n\n    .dataframe tbody tr th {\n        vertical-align: top;\n    }\n\n    .dataframe thead th {\n        text-align: right;\n    }\n</style>\n<table border=\"1\" class=\"dataframe\">\n  <thead>\n    <tr style=\"text-align: right;\">\n      <th></th>\n      <th>Entity</th>\n      <th>Code</th>\n      <th>Year</th>\n      <th>GDP per capita, PPP (constant 2017 international $)</th>\n    </tr>\n  </thead>\n  <tbody>\n    <tr>\n      <th>0</th>\n      <td>Afghanistan</td>\n      <td>AFG</td>\n      <td>2002</td>\n      <td>1189.784668</td>\n    </tr>\n    <tr>\n      <th>1</th>\n      <td>Afghanistan</td>\n      <td>AFG</td>\n      <td>2003</td>\n      <td>1235.810063</td>\n    </tr>\n    <tr>\n      <th>2</th>\n      <td>Afghanistan</td>\n      <td>AFG</td>\n      <td>2004</td>\n      <td>1200.278013</td>\n    </tr>\n    <tr>\n      <th>3</th>\n      <td>Afghanistan</td>\n      <td>AFG</td>\n      <td>2005</td>\n      <td>1286.793659</td>\n    </tr>\n    <tr>\n      <th>4</th>\n      <td>Afghanistan</td>\n      <td>AFG</td>\n      <td>2006</td>\n      <td>1315.789117</td>\n    </tr>\n  </tbody>\n</table>\n</div>"
     },
     "execution_count": 194,
     "metadata": {},
     "output_type": "execute_result"
    }
   ],
   "source": [
    "df2.head()"
   ],
   "metadata": {
    "collapsed": false,
    "pycharm": {
     "name": "#%%\n"
    }
   }
  },
  {
   "cell_type": "code",
   "execution_count": 195,
   "outputs": [
    {
     "data": {
      "text/plain": "(7109, 4)"
     },
     "execution_count": 195,
     "metadata": {},
     "output_type": "execute_result"
    }
   ],
   "source": [
    "df2.shape"
   ],
   "metadata": {
    "collapsed": false,
    "pycharm": {
     "name": "#%%\n"
    }
   }
  },
  {
   "cell_type": "code",
   "execution_count": 196,
   "outputs": [
    {
     "data": {
      "text/plain": "Entity                                                  object\nCode                                                    object\nYear                                                     int64\nGDP per capita, PPP (constant 2017 international $)    float64\ndtype: object"
     },
     "execution_count": 196,
     "metadata": {},
     "output_type": "execute_result"
    }
   ],
   "source": [
    "df2.dtypes"
   ],
   "metadata": {
    "collapsed": false,
    "pycharm": {
     "name": "#%%\n"
    }
   }
  },
  {
   "cell_type": "code",
   "execution_count": 197,
   "outputs": [
    {
     "data": {
      "text/plain": "Entity                                                  240\nCode                                                    195\nYear                                                     31\nGDP per capita, PPP (constant 2017 international $)    7050\ndtype: int64"
     },
     "execution_count": 197,
     "metadata": {},
     "output_type": "execute_result"
    }
   ],
   "source": [
    "df2.nunique()"
   ],
   "metadata": {
    "collapsed": false,
    "pycharm": {
     "name": "#%%\n"
    }
   }
  },
  {
   "cell_type": "code",
   "execution_count": 198,
   "outputs": [
    {
     "data": {
      "text/plain": "Zimbabwe                      31\nMiddle East & North Africa    31\nLuxembourg                    31\nMacao                         31\nMadagascar                    31\n                              ..\nCayman Islands                14\nTurks and Caicos Islands      10\nSint Maarten (Dutch part)     10\nSomalia                        9\nDjibouti                       8\nName: Entity, Length: 240, dtype: int64"
     },
     "execution_count": 198,
     "metadata": {},
     "output_type": "execute_result"
    }
   ],
   "source": [
    "entity2 = df2[\"Entity\"].value_counts()\n",
    "entity2"
   ],
   "metadata": {
    "collapsed": false,
    "pycharm": {
     "name": "#%%\n"
    }
   }
  },
  {
   "cell_type": "code",
   "execution_count": 199,
   "outputs": [
    {
     "data": {
      "text/plain": "                             GDP per capita, PPP (constant 2017 international $)\nEntity                                                                          \nAfghanistan                                                        1755.250894  \nAfrica Eastern and Southern                                        3025.271927  \nAfrica Western and Central                                         3324.486598  \nAlbania                                                            8264.789644  \nAlgeria                                                            9920.676960  \n...                                                                        ...  \nVanuatu                                                            2952.607100  \nVietnam                                                            4279.099478  \nWorld                                                             12682.336851  \nZambia                                                             2613.989465  \nZimbabwe                                                           3151.595075  \n\n[240 rows x 1 columns]",
      "text/html": "<div>\n<style scoped>\n    .dataframe tbody tr th:only-of-type {\n        vertical-align: middle;\n    }\n\n    .dataframe tbody tr th {\n        vertical-align: top;\n    }\n\n    .dataframe thead th {\n        text-align: right;\n    }\n</style>\n<table border=\"1\" class=\"dataframe\">\n  <thead>\n    <tr style=\"text-align: right;\">\n      <th></th>\n      <th>GDP per capita, PPP (constant 2017 international $)</th>\n    </tr>\n    <tr>\n      <th>Entity</th>\n      <th></th>\n    </tr>\n  </thead>\n  <tbody>\n    <tr>\n      <th>Afghanistan</th>\n      <td>1755.250894</td>\n    </tr>\n    <tr>\n      <th>Africa Eastern and Southern</th>\n      <td>3025.271927</td>\n    </tr>\n    <tr>\n      <th>Africa Western and Central</th>\n      <td>3324.486598</td>\n    </tr>\n    <tr>\n      <th>Albania</th>\n      <td>8264.789644</td>\n    </tr>\n    <tr>\n      <th>Algeria</th>\n      <td>9920.676960</td>\n    </tr>\n    <tr>\n      <th>...</th>\n      <td>...</td>\n    </tr>\n    <tr>\n      <th>Vanuatu</th>\n      <td>2952.607100</td>\n    </tr>\n    <tr>\n      <th>Vietnam</th>\n      <td>4279.099478</td>\n    </tr>\n    <tr>\n      <th>World</th>\n      <td>12682.336851</td>\n    </tr>\n    <tr>\n      <th>Zambia</th>\n      <td>2613.989465</td>\n    </tr>\n    <tr>\n      <th>Zimbabwe</th>\n      <td>3151.595075</td>\n    </tr>\n  </tbody>\n</table>\n<p>240 rows × 1 columns</p>\n</div>"
     },
     "execution_count": 199,
     "metadata": {},
     "output_type": "execute_result"
    }
   ],
   "source": [
    "GDP1 = df2.groupby([\"Entity\"])[[\"GDP per capita, PPP (constant 2017 international $)\"]].agg(num.mean)\n",
    "GDP1"
   ],
   "metadata": {
    "collapsed": false,
    "pycharm": {
     "name": "#%%\n"
    }
   }
  },
  {
   "cell_type": "code",
   "execution_count": 200,
   "outputs": [
    {
     "data": {
      "text/plain": "                          Entity  \\\n0                    Afghanistan   \n1    Africa Eastern and Southern   \n2     Africa Western and Central   \n3                        Albania   \n4                        Algeria   \n..                           ...   \n235                      Vanuatu   \n236                      Vietnam   \n237                        World   \n238                       Zambia   \n239                     Zimbabwe   \n\n     GDP per capita, PPP (constant 2017 international $)  \n0                                          1755.250894    \n1                                          3025.271927    \n2                                          3324.486598    \n3                                          8264.789644    \n4                                          9920.676960    \n..                                                 ...    \n235                                        2952.607100    \n236                                        4279.099478    \n237                                       12682.336851    \n238                                        2613.989465    \n239                                        3151.595075    \n\n[240 rows x 2 columns]",
      "text/html": "<div>\n<style scoped>\n    .dataframe tbody tr th:only-of-type {\n        vertical-align: middle;\n    }\n\n    .dataframe tbody tr th {\n        vertical-align: top;\n    }\n\n    .dataframe thead th {\n        text-align: right;\n    }\n</style>\n<table border=\"1\" class=\"dataframe\">\n  <thead>\n    <tr style=\"text-align: right;\">\n      <th></th>\n      <th>Entity</th>\n      <th>GDP per capita, PPP (constant 2017 international $)</th>\n    </tr>\n  </thead>\n  <tbody>\n    <tr>\n      <th>0</th>\n      <td>Afghanistan</td>\n      <td>1755.250894</td>\n    </tr>\n    <tr>\n      <th>1</th>\n      <td>Africa Eastern and Southern</td>\n      <td>3025.271927</td>\n    </tr>\n    <tr>\n      <th>2</th>\n      <td>Africa Western and Central</td>\n      <td>3324.486598</td>\n    </tr>\n    <tr>\n      <th>3</th>\n      <td>Albania</td>\n      <td>8264.789644</td>\n    </tr>\n    <tr>\n      <th>4</th>\n      <td>Algeria</td>\n      <td>9920.676960</td>\n    </tr>\n    <tr>\n      <th>...</th>\n      <td>...</td>\n      <td>...</td>\n    </tr>\n    <tr>\n      <th>235</th>\n      <td>Vanuatu</td>\n      <td>2952.607100</td>\n    </tr>\n    <tr>\n      <th>236</th>\n      <td>Vietnam</td>\n      <td>4279.099478</td>\n    </tr>\n    <tr>\n      <th>237</th>\n      <td>World</td>\n      <td>12682.336851</td>\n    </tr>\n    <tr>\n      <th>238</th>\n      <td>Zambia</td>\n      <td>2613.989465</td>\n    </tr>\n    <tr>\n      <th>239</th>\n      <td>Zimbabwe</td>\n      <td>3151.595075</td>\n    </tr>\n  </tbody>\n</table>\n<p>240 rows × 2 columns</p>\n</div>"
     },
     "execution_count": 200,
     "metadata": {},
     "output_type": "execute_result"
    }
   ],
   "source": [
    "GDP1 = GDP1.sort_values(by=\"Entity\",ascending=True).reset_index()\n",
    "GDP1"
   ],
   "metadata": {
    "collapsed": false,
    "pycharm": {
     "name": "#%%\n"
    }
   }
  },
  {
   "cell_type": "code",
   "execution_count": 201,
   "outputs": [],
   "source": [
    "GDP1.to_csv(\"rankbyGDP.csv\", index=False)"
   ],
   "metadata": {
    "collapsed": false,
    "pycharm": {
     "name": "#%%\n"
    }
   }
  },
  {
   "cell_type": "code",
   "execution_count": 202,
   "outputs": [],
   "source": [
    "# Prepare the data for the selected countries\n",
    "countrylist1 = [\"Argentina\",\"Australia\",\"Brazil\",\"Canada\",\"China\",\"Egypt\",\"Germany\",\"Hong Kong\",\"Israel\",\"New Zealand\",\"Saudi Arabia\",\"South Africa\",\"United Kingdom\",\"United States\"]"
   ],
   "metadata": {
    "collapsed": false,
    "pycharm": {
     "name": "#%%\n"
    }
   }
  },
  {
   "cell_type": "code",
   "execution_count": 203,
   "outputs": [
    {
     "data": {
      "text/plain": "              Name\n0        Argentina\n1        Australia\n2           Brazil\n3           Canada\n4            China\n5            Egypt\n6          Germany\n7        Hong Kong\n8           Israel\n9      New Zealand\n10    Saudi Arabia\n11    South Africa\n12  United Kingdom\n13   United States",
      "text/html": "<div>\n<style scoped>\n    .dataframe tbody tr th:only-of-type {\n        vertical-align: middle;\n    }\n\n    .dataframe tbody tr th {\n        vertical-align: top;\n    }\n\n    .dataframe thead th {\n        text-align: right;\n    }\n</style>\n<table border=\"1\" class=\"dataframe\">\n  <thead>\n    <tr style=\"text-align: right;\">\n      <th></th>\n      <th>Name</th>\n    </tr>\n  </thead>\n  <tbody>\n    <tr>\n      <th>0</th>\n      <td>Argentina</td>\n    </tr>\n    <tr>\n      <th>1</th>\n      <td>Australia</td>\n    </tr>\n    <tr>\n      <th>2</th>\n      <td>Brazil</td>\n    </tr>\n    <tr>\n      <th>3</th>\n      <td>Canada</td>\n    </tr>\n    <tr>\n      <th>4</th>\n      <td>China</td>\n    </tr>\n    <tr>\n      <th>5</th>\n      <td>Egypt</td>\n    </tr>\n    <tr>\n      <th>6</th>\n      <td>Germany</td>\n    </tr>\n    <tr>\n      <th>7</th>\n      <td>Hong Kong</td>\n    </tr>\n    <tr>\n      <th>8</th>\n      <td>Israel</td>\n    </tr>\n    <tr>\n      <th>9</th>\n      <td>New Zealand</td>\n    </tr>\n    <tr>\n      <th>10</th>\n      <td>Saudi Arabia</td>\n    </tr>\n    <tr>\n      <th>11</th>\n      <td>South Africa</td>\n    </tr>\n    <tr>\n      <th>12</th>\n      <td>United Kingdom</td>\n    </tr>\n    <tr>\n      <th>13</th>\n      <td>United States</td>\n    </tr>\n  </tbody>\n</table>\n</div>"
     },
     "execution_count": 203,
     "metadata": {},
     "output_type": "execute_result"
    }
   ],
   "source": [
    "countrylist1 = pan.DataFrame(countrylist1,columns=[\"Name\"])\n",
    "countrylist1"
   ],
   "metadata": {
    "collapsed": false,
    "pycharm": {
     "name": "#%%\n"
    }
   }
  },
  {
   "cell_type": "code",
   "execution_count": 204,
   "outputs": [],
   "source": [
    "countrylist1[\"GDP\"] = 0.0\n",
    "countrylist1[\"Expenditure\"] = 0.0"
   ],
   "metadata": {
    "collapsed": false,
    "pycharm": {
     "name": "#%%\n"
    }
   }
  },
  {
   "cell_type": "code",
   "execution_count": 205,
   "outputs": [
    {
     "data": {
      "text/plain": "              Name  GDP  Expenditure\n0        Argentina  0.0          0.0\n1        Australia  0.0          0.0\n2           Brazil  0.0          0.0\n3           Canada  0.0          0.0\n4            China  0.0          0.0\n5            Egypt  0.0          0.0\n6          Germany  0.0          0.0\n7        Hong Kong  0.0          0.0\n8           Israel  0.0          0.0\n9      New Zealand  0.0          0.0\n10    Saudi Arabia  0.0          0.0\n11    South Africa  0.0          0.0\n12  United Kingdom  0.0          0.0\n13   United States  0.0          0.0",
      "text/html": "<div>\n<style scoped>\n    .dataframe tbody tr th:only-of-type {\n        vertical-align: middle;\n    }\n\n    .dataframe tbody tr th {\n        vertical-align: top;\n    }\n\n    .dataframe thead th {\n        text-align: right;\n    }\n</style>\n<table border=\"1\" class=\"dataframe\">\n  <thead>\n    <tr style=\"text-align: right;\">\n      <th></th>\n      <th>Name</th>\n      <th>GDP</th>\n      <th>Expenditure</th>\n    </tr>\n  </thead>\n  <tbody>\n    <tr>\n      <th>0</th>\n      <td>Argentina</td>\n      <td>0.0</td>\n      <td>0.0</td>\n    </tr>\n    <tr>\n      <th>1</th>\n      <td>Australia</td>\n      <td>0.0</td>\n      <td>0.0</td>\n    </tr>\n    <tr>\n      <th>2</th>\n      <td>Brazil</td>\n      <td>0.0</td>\n      <td>0.0</td>\n    </tr>\n    <tr>\n      <th>3</th>\n      <td>Canada</td>\n      <td>0.0</td>\n      <td>0.0</td>\n    </tr>\n    <tr>\n      <th>4</th>\n      <td>China</td>\n      <td>0.0</td>\n      <td>0.0</td>\n    </tr>\n    <tr>\n      <th>5</th>\n      <td>Egypt</td>\n      <td>0.0</td>\n      <td>0.0</td>\n    </tr>\n    <tr>\n      <th>6</th>\n      <td>Germany</td>\n      <td>0.0</td>\n      <td>0.0</td>\n    </tr>\n    <tr>\n      <th>7</th>\n      <td>Hong Kong</td>\n      <td>0.0</td>\n      <td>0.0</td>\n    </tr>\n    <tr>\n      <th>8</th>\n      <td>Israel</td>\n      <td>0.0</td>\n      <td>0.0</td>\n    </tr>\n    <tr>\n      <th>9</th>\n      <td>New Zealand</td>\n      <td>0.0</td>\n      <td>0.0</td>\n    </tr>\n    <tr>\n      <th>10</th>\n      <td>Saudi Arabia</td>\n      <td>0.0</td>\n      <td>0.0</td>\n    </tr>\n    <tr>\n      <th>11</th>\n      <td>South Africa</td>\n      <td>0.0</td>\n      <td>0.0</td>\n    </tr>\n    <tr>\n      <th>12</th>\n      <td>United Kingdom</td>\n      <td>0.0</td>\n      <td>0.0</td>\n    </tr>\n    <tr>\n      <th>13</th>\n      <td>United States</td>\n      <td>0.0</td>\n      <td>0.0</td>\n    </tr>\n  </tbody>\n</table>\n</div>"
     },
     "execution_count": 205,
     "metadata": {},
     "output_type": "execute_result"
    }
   ],
   "source": [
    "countrylist1"
   ],
   "metadata": {
    "collapsed": false,
    "pycharm": {
     "name": "#%%\n"
    }
   }
  },
  {
   "cell_type": "code",
   "execution_count": 206,
   "outputs": [
    {
     "data": {
      "text/plain": "14"
     },
     "execution_count": 206,
     "metadata": {},
     "output_type": "execute_result"
    }
   ],
   "source": [
    "lencountry = len(countrylist1)\n",
    "lencountry"
   ],
   "metadata": {
    "collapsed": false,
    "pycharm": {
     "name": "#%%\n"
    }
   }
  },
  {
   "cell_type": "code",
   "execution_count": 207,
   "outputs": [],
   "source": [
    "count1=0\n",
    "for ind1 in range(len(expenditure1)):\n",
    "    if (count1 < lencountry):\n",
    "        if (countrylist1[\"Name\"][count1] == expenditure1[\"Entity\"][ind1]):\n",
    "            temp = expenditure1[\"Government expenditure on education, total (% of GDP)\"][ind1]\n",
    "            countrylist1.loc[0:,\"Expenditure\"][count1] = temp\n",
    "            count1+=1"
   ],
   "metadata": {
    "collapsed": false,
    "pycharm": {
     "name": "#%%\n"
    }
   }
  },
  {
   "cell_type": "code",
   "execution_count": 208,
   "outputs": [
    {
     "data": {
      "text/plain": "              Name  GDP  Expenditure\n0        Argentina  0.0     3.317577\n1        Australia  0.0     5.151343\n2           Brazil  0.0     5.080326\n3           Canada  0.0     6.197651\n4            China  0.0     1.908977\n5            Egypt  0.0     4.600963\n6          Germany  0.0     4.667312\n7        Hong Kong  0.0     3.086896\n8           Israel  0.0     6.065511\n9      New Zealand  0.0     5.548614\n10    Saudi Arabia  0.0     5.959900\n11    South Africa  0.0     5.461569\n12  United Kingdom  0.0     4.948231\n13   United States  0.0     4.946395",
      "text/html": "<div>\n<style scoped>\n    .dataframe tbody tr th:only-of-type {\n        vertical-align: middle;\n    }\n\n    .dataframe tbody tr th {\n        vertical-align: top;\n    }\n\n    .dataframe thead th {\n        text-align: right;\n    }\n</style>\n<table border=\"1\" class=\"dataframe\">\n  <thead>\n    <tr style=\"text-align: right;\">\n      <th></th>\n      <th>Name</th>\n      <th>GDP</th>\n      <th>Expenditure</th>\n    </tr>\n  </thead>\n  <tbody>\n    <tr>\n      <th>0</th>\n      <td>Argentina</td>\n      <td>0.0</td>\n      <td>3.317577</td>\n    </tr>\n    <tr>\n      <th>1</th>\n      <td>Australia</td>\n      <td>0.0</td>\n      <td>5.151343</td>\n    </tr>\n    <tr>\n      <th>2</th>\n      <td>Brazil</td>\n      <td>0.0</td>\n      <td>5.080326</td>\n    </tr>\n    <tr>\n      <th>3</th>\n      <td>Canada</td>\n      <td>0.0</td>\n      <td>6.197651</td>\n    </tr>\n    <tr>\n      <th>4</th>\n      <td>China</td>\n      <td>0.0</td>\n      <td>1.908977</td>\n    </tr>\n    <tr>\n      <th>5</th>\n      <td>Egypt</td>\n      <td>0.0</td>\n      <td>4.600963</td>\n    </tr>\n    <tr>\n      <th>6</th>\n      <td>Germany</td>\n      <td>0.0</td>\n      <td>4.667312</td>\n    </tr>\n    <tr>\n      <th>7</th>\n      <td>Hong Kong</td>\n      <td>0.0</td>\n      <td>3.086896</td>\n    </tr>\n    <tr>\n      <th>8</th>\n      <td>Israel</td>\n      <td>0.0</td>\n      <td>6.065511</td>\n    </tr>\n    <tr>\n      <th>9</th>\n      <td>New Zealand</td>\n      <td>0.0</td>\n      <td>5.548614</td>\n    </tr>\n    <tr>\n      <th>10</th>\n      <td>Saudi Arabia</td>\n      <td>0.0</td>\n      <td>5.959900</td>\n    </tr>\n    <tr>\n      <th>11</th>\n      <td>South Africa</td>\n      <td>0.0</td>\n      <td>5.461569</td>\n    </tr>\n    <tr>\n      <th>12</th>\n      <td>United Kingdom</td>\n      <td>0.0</td>\n      <td>4.948231</td>\n    </tr>\n    <tr>\n      <th>13</th>\n      <td>United States</td>\n      <td>0.0</td>\n      <td>4.946395</td>\n    </tr>\n  </tbody>\n</table>\n</div>"
     },
     "execution_count": 208,
     "metadata": {},
     "output_type": "execute_result"
    }
   ],
   "source": [
    "countrylist1"
   ],
   "metadata": {
    "collapsed": false,
    "pycharm": {
     "name": "#%%\n"
    }
   }
  },
  {
   "cell_type": "code",
   "execution_count": 209,
   "outputs": [],
   "source": [
    "count2=0\n",
    "for ind1 in range(len(GDP1)):\n",
    "    if (count2 < 14):\n",
    "        if (countrylist1[\"Name\"][count2] == GDP1[\"Entity\"][ind1]):\n",
    "            countrylist1.loc[0:,\"GDP\"][count2] = GDP1[\"GDP per capita, PPP (constant 2017 international $)\"][ind1]\n",
    "            count2+=1"
   ],
   "metadata": {
    "collapsed": false,
    "pycharm": {
     "name": "#%%\n"
    }
   }
  },
  {
   "cell_type": "code",
   "execution_count": 210,
   "outputs": [
    {
     "data": {
      "text/plain": "              Name           GDP  Expenditure\n0        Argentina  20125.560908     3.317577\n1        Australia  40953.089133     5.151343\n2           Brazil  12921.597170     5.080326\n3           Canada  43169.484078     6.197651\n4            China   7004.509295     1.908977\n5            Egypt   8723.648822     4.600963\n6          Germany  45109.291175     4.667312\n7        Hong Kong  44467.746416     3.086896\n8           Israel  33745.168387     6.065511\n9      New Zealand  35550.895245     5.548614\n10    Saudi Arabia  44500.372249     5.959900\n11    South Africa  11250.144917     5.461569\n12  United Kingdom  39575.520420     4.948231\n13   United States  51699.911575     4.946395",
      "text/html": "<div>\n<style scoped>\n    .dataframe tbody tr th:only-of-type {\n        vertical-align: middle;\n    }\n\n    .dataframe tbody tr th {\n        vertical-align: top;\n    }\n\n    .dataframe thead th {\n        text-align: right;\n    }\n</style>\n<table border=\"1\" class=\"dataframe\">\n  <thead>\n    <tr style=\"text-align: right;\">\n      <th></th>\n      <th>Name</th>\n      <th>GDP</th>\n      <th>Expenditure</th>\n    </tr>\n  </thead>\n  <tbody>\n    <tr>\n      <th>0</th>\n      <td>Argentina</td>\n      <td>20125.560908</td>\n      <td>3.317577</td>\n    </tr>\n    <tr>\n      <th>1</th>\n      <td>Australia</td>\n      <td>40953.089133</td>\n      <td>5.151343</td>\n    </tr>\n    <tr>\n      <th>2</th>\n      <td>Brazil</td>\n      <td>12921.597170</td>\n      <td>5.080326</td>\n    </tr>\n    <tr>\n      <th>3</th>\n      <td>Canada</td>\n      <td>43169.484078</td>\n      <td>6.197651</td>\n    </tr>\n    <tr>\n      <th>4</th>\n      <td>China</td>\n      <td>7004.509295</td>\n      <td>1.908977</td>\n    </tr>\n    <tr>\n      <th>5</th>\n      <td>Egypt</td>\n      <td>8723.648822</td>\n      <td>4.600963</td>\n    </tr>\n    <tr>\n      <th>6</th>\n      <td>Germany</td>\n      <td>45109.291175</td>\n      <td>4.667312</td>\n    </tr>\n    <tr>\n      <th>7</th>\n      <td>Hong Kong</td>\n      <td>44467.746416</td>\n      <td>3.086896</td>\n    </tr>\n    <tr>\n      <th>8</th>\n      <td>Israel</td>\n      <td>33745.168387</td>\n      <td>6.065511</td>\n    </tr>\n    <tr>\n      <th>9</th>\n      <td>New Zealand</td>\n      <td>35550.895245</td>\n      <td>5.548614</td>\n    </tr>\n    <tr>\n      <th>10</th>\n      <td>Saudi Arabia</td>\n      <td>44500.372249</td>\n      <td>5.959900</td>\n    </tr>\n    <tr>\n      <th>11</th>\n      <td>South Africa</td>\n      <td>11250.144917</td>\n      <td>5.461569</td>\n    </tr>\n    <tr>\n      <th>12</th>\n      <td>United Kingdom</td>\n      <td>39575.520420</td>\n      <td>4.948231</td>\n    </tr>\n    <tr>\n      <th>13</th>\n      <td>United States</td>\n      <td>51699.911575</td>\n      <td>4.946395</td>\n    </tr>\n  </tbody>\n</table>\n</div>"
     },
     "execution_count": 210,
     "metadata": {},
     "output_type": "execute_result"
    }
   ],
   "source": [
    "countrylist1"
   ],
   "metadata": {
    "collapsed": false,
    "pycharm": {
     "name": "#%%\n"
    }
   }
  },
  {
   "cell_type": "code",
   "execution_count": 211,
   "outputs": [],
   "source": [
    "# Explore the relationship"
   ],
   "metadata": {
    "collapsed": false,
    "pycharm": {
     "name": "#%%\n"
    }
   }
  },
  {
   "cell_type": "code",
   "execution_count": 212,
   "outputs": [
    {
     "data": {
      "text/plain": "<Figure size 432x288 with 1 Axes>",
      "image/png": "[encoded data removed]"
     },
     "metadata": {
      "needs_background": "light"
     },
     "output_type": "display_data"
    }
   ],
   "source": [
    "mat.scatter(countrylist1[\"Expenditure\"],countrylist1[\"GDP\"])\n",
    "mat.xlabel(\"Expenditure\")\n",
    "mat.ylabel(\"GDP\")\n",
    "mat.show()"
   ],
   "metadata": {
    "collapsed": false,
    "pycharm": {
     "name": "#%%\n"
    }
   }
  },
  {
   "cell_type": "markdown",
   "source": [],
   "metadata": {
    "collapsed": false
   }
  },
  {
   "cell_type": "code",
   "execution_count": 213,
   "outputs": [
    {
     "data": {
      "text/plain": "             Expenditure       GDP\nExpenditure     1.000000  0.372994\nGDP             0.372994  1.000000",
      "text/html": "<div>\n<style scoped>\n    .dataframe tbody tr th:only-of-type {\n        vertical-align: middle;\n    }\n\n    .dataframe tbody tr th {\n        vertical-align: top;\n    }\n\n    .dataframe thead th {\n        text-align: right;\n    }\n</style>\n<table border=\"1\" class=\"dataframe\">\n  <thead>\n    <tr style=\"text-align: right;\">\n      <th></th>\n      <th>Expenditure</th>\n      <th>GDP</th>\n    </tr>\n  </thead>\n  <tbody>\n    <tr>\n      <th>Expenditure</th>\n      <td>1.000000</td>\n      <td>0.372994</td>\n    </tr>\n    <tr>\n      <th>GDP</th>\n      <td>0.372994</td>\n      <td>1.000000</td>\n    </tr>\n  </tbody>\n</table>\n</div>"
     },
     "execution_count": 213,
     "metadata": {},
     "output_type": "execute_result"
    }
   ],
   "source": [
    "corr1 = countrylist1[[\"Expenditure\",\"GDP\"]]\n",
    "corr1.corr()"
   ],
   "metadata": {
    "collapsed": false,
    "pycharm": {
     "name": "#%%\n"
    }
   }
  },
  {
   "cell_type": "markdown",
   "source": [
    "### Conclusion for scenario 1\n",
    "#### The correlation is positive, but it is not very strong."
   ],
   "metadata": {
    "collapsed": false,
    "pycharm": {
     "name": "#%% md\n"
    }
   }
  },
  {
   "cell_type": "code",
   "execution_count": 214,
   "outputs": [],
   "source": [
    "# scenario 2 - using mean expenditure and maximum GDP values of selected countries"
   ],
   "metadata": {
    "collapsed": false,
    "pycharm": {
     "name": "#%%\n"
    }
   }
  },
  {
   "cell_type": "code",
   "execution_count": 215,
   "outputs": [
    {
     "data": {
      "text/plain": "                             Government expenditure on education, total (% of GDP)\nEntity                                                                            \nAfghanistan                                                           2.529187    \nAfrica Eastern and Southern                                           4.395773    \nAfrica Western and Central                                            2.993186    \nAlbania                                                               3.418164    \nAlgeria                                                               6.038817    \n...                                                                        ...    \nVietnam                                                               4.918966    \nWorld                                                                 4.263374    \nYemen                                                                 8.011537    \nZambia                                                                3.729464    \nZimbabwe                                                              9.576959    \n\n[243 rows x 1 columns]",
      "text/html": "<div>\n<style scoped>\n    .dataframe tbody tr th:only-of-type {\n        vertical-align: middle;\n    }\n\n    .dataframe tbody tr th {\n        vertical-align: top;\n    }\n\n    .dataframe thead th {\n        text-align: right;\n    }\n</style>\n<table border=\"1\" class=\"dataframe\">\n  <thead>\n    <tr style=\"text-align: right;\">\n      <th></th>\n      <th>Government expenditure on education, total (% of GDP)</th>\n    </tr>\n    <tr>\n      <th>Entity</th>\n      <th></th>\n    </tr>\n  </thead>\n  <tbody>\n    <tr>\n      <th>Afghanistan</th>\n      <td>2.529187</td>\n    </tr>\n    <tr>\n      <th>Africa Eastern and Southern</th>\n      <td>4.395773</td>\n    </tr>\n    <tr>\n      <th>Africa Western and Central</th>\n      <td>2.993186</td>\n    </tr>\n    <tr>\n      <th>Albania</th>\n      <td>3.418164</td>\n    </tr>\n    <tr>\n      <th>Algeria</th>\n      <td>6.038817</td>\n    </tr>\n    <tr>\n      <th>...</th>\n      <td>...</td>\n    </tr>\n    <tr>\n      <th>Vietnam</th>\n      <td>4.918966</td>\n    </tr>\n    <tr>\n      <th>World</th>\n      <td>4.263374</td>\n    </tr>\n    <tr>\n      <th>Yemen</th>\n      <td>8.011537</td>\n    </tr>\n    <tr>\n      <th>Zambia</th>\n      <td>3.729464</td>\n    </tr>\n    <tr>\n      <th>Zimbabwe</th>\n      <td>9.576959</td>\n    </tr>\n  </tbody>\n</table>\n<p>243 rows × 1 columns</p>\n</div>"
     },
     "execution_count": 215,
     "metadata": {},
     "output_type": "execute_result"
    }
   ],
   "source": [
    "# Get the data on expenditure\n",
    "expenditure2 = df1.groupby([\"Entity\"])[[\"Government expenditure on education, total (% of GDP)\"]].agg(num.mean)\n",
    "expenditure2"
   ],
   "metadata": {
    "collapsed": false,
    "pycharm": {
     "name": "#%%\n"
    }
   }
  },
  {
   "cell_type": "code",
   "execution_count": 216,
   "outputs": [
    {
     "data": {
      "text/plain": "                          Entity  \\\n0                    Afghanistan   \n1    Africa Eastern and Southern   \n2     Africa Western and Central   \n3                        Albania   \n4                        Algeria   \n..                           ...   \n238                      Vietnam   \n239                        World   \n240                        Yemen   \n241                       Zambia   \n242                     Zimbabwe   \n\n     Government expenditure on education, total (% of GDP)  \n0                                             2.529187      \n1                                             4.395773      \n2                                             2.993186      \n3                                             3.418164      \n4                                             6.038817      \n..                                                 ...      \n238                                           4.918966      \n239                                           4.263374      \n240                                           8.011537      \n241                                           3.729464      \n242                                           9.576959      \n\n[243 rows x 2 columns]",
      "text/html": "<div>\n<style scoped>\n    .dataframe tbody tr th:only-of-type {\n        vertical-align: middle;\n    }\n\n    .dataframe tbody tr th {\n        vertical-align: top;\n    }\n\n    .dataframe thead th {\n        text-align: right;\n    }\n</style>\n<table border=\"1\" class=\"dataframe\">\n  <thead>\n    <tr style=\"text-align: right;\">\n      <th></th>\n      <th>Entity</th>\n      <th>Government expenditure on education, total (% of GDP)</th>\n    </tr>\n  </thead>\n  <tbody>\n    <tr>\n      <th>0</th>\n      <td>Afghanistan</td>\n      <td>2.529187</td>\n    </tr>\n    <tr>\n      <th>1</th>\n      <td>Africa Eastern and Southern</td>\n      <td>4.395773</td>\n    </tr>\n    <tr>\n      <th>2</th>\n      <td>Africa Western and Central</td>\n      <td>2.993186</td>\n    </tr>\n    <tr>\n      <th>3</th>\n      <td>Albania</td>\n      <td>3.418164</td>\n    </tr>\n    <tr>\n      <th>4</th>\n      <td>Algeria</td>\n      <td>6.038817</td>\n    </tr>\n    <tr>\n      <th>...</th>\n      <td>...</td>\n      <td>...</td>\n    </tr>\n    <tr>\n      <th>238</th>\n      <td>Vietnam</td>\n      <td>4.918966</td>\n    </tr>\n    <tr>\n      <th>239</th>\n      <td>World</td>\n      <td>4.263374</td>\n    </tr>\n    <tr>\n      <th>240</th>\n      <td>Yemen</td>\n      <td>8.011537</td>\n    </tr>\n    <tr>\n      <th>241</th>\n      <td>Zambia</td>\n      <td>3.729464</td>\n    </tr>\n    <tr>\n      <th>242</th>\n      <td>Zimbabwe</td>\n      <td>9.576959</td>\n    </tr>\n  </tbody>\n</table>\n<p>243 rows × 2 columns</p>\n</div>"
     },
     "execution_count": 216,
     "metadata": {},
     "output_type": "execute_result"
    }
   ],
   "source": [
    "expenditure2 = expenditure2.sort_values(by=\"Entity\",ascending=True).reset_index()\n",
    "expenditure2"
   ],
   "metadata": {
    "collapsed": false,
    "pycharm": {
     "name": "#%%\n"
    }
   }
  },
  {
   "cell_type": "code",
   "execution_count": 217,
   "outputs": [
    {
     "data": {
      "text/plain": "                             GDP per capita, PPP (constant 2017 international $)\nEntity                                                                          \nAfghanistan                                                        2116.465258  \nAfrica Eastern and Southern                                        3579.271917  \nAfrica Western and Central                                         4202.057923  \nAlbania                                                           13671.488422  \nAlgeria                                                           11826.166416  \n...                                                                        ...  \nVanuatu                                                            3129.645024  \nVietnam                                                            8200.331867  \nWorld                                                             16915.287846  \nZambia                                                             3521.542063  \nZimbabwe                                                           3951.319481  \n\n[240 rows x 1 columns]",
      "text/html": "<div>\n<style scoped>\n    .dataframe tbody tr th:only-of-type {\n        vertical-align: middle;\n    }\n\n    .dataframe tbody tr th {\n        vertical-align: top;\n    }\n\n    .dataframe thead th {\n        text-align: right;\n    }\n</style>\n<table border=\"1\" class=\"dataframe\">\n  <thead>\n    <tr style=\"text-align: right;\">\n      <th></th>\n      <th>GDP per capita, PPP (constant 2017 international $)</th>\n    </tr>\n    <tr>\n      <th>Entity</th>\n      <th></th>\n    </tr>\n  </thead>\n  <tbody>\n    <tr>\n      <th>Afghanistan</th>\n      <td>2116.465258</td>\n    </tr>\n    <tr>\n      <th>Africa Eastern and Southern</th>\n      <td>3579.271917</td>\n    </tr>\n    <tr>\n      <th>Africa Western and Central</th>\n      <td>4202.057923</td>\n    </tr>\n    <tr>\n      <th>Albania</th>\n      <td>13671.488422</td>\n    </tr>\n    <tr>\n      <th>Algeria</th>\n      <td>11826.166416</td>\n    </tr>\n    <tr>\n      <th>...</th>\n      <td>...</td>\n    </tr>\n    <tr>\n      <th>Vanuatu</th>\n      <td>3129.645024</td>\n    </tr>\n    <tr>\n      <th>Vietnam</th>\n      <td>8200.331867</td>\n    </tr>\n    <tr>\n      <th>World</th>\n      <td>16915.287846</td>\n    </tr>\n    <tr>\n      <th>Zambia</th>\n      <td>3521.542063</td>\n    </tr>\n    <tr>\n      <th>Zimbabwe</th>\n      <td>3951.319481</td>\n    </tr>\n  </tbody>\n</table>\n<p>240 rows × 1 columns</p>\n</div>"
     },
     "execution_count": 217,
     "metadata": {},
     "output_type": "execute_result"
    }
   ],
   "source": [
    "# Get the data on GDP\n",
    "GDP2 = df2.groupby([\"Entity\"])[[\"GDP per capita, PPP (constant 2017 international $)\"]].agg(num.max)\n",
    "GDP2"
   ],
   "metadata": {
    "collapsed": false,
    "pycharm": {
     "name": "#%%\n"
    }
   }
  },
  {
   "cell_type": "code",
   "execution_count": 218,
   "outputs": [
    {
     "data": {
      "text/plain": "                          Entity  \\\n0                    Afghanistan   \n1    Africa Eastern and Southern   \n2     Africa Western and Central   \n3                        Albania   \n4                        Algeria   \n..                           ...   \n235                      Vanuatu   \n236                      Vietnam   \n237                        World   \n238                       Zambia   \n239                     Zimbabwe   \n\n     GDP per capita, PPP (constant 2017 international $)  \n0                                          2116.465258    \n1                                          3579.271917    \n2                                          4202.057923    \n3                                         13671.488422    \n4                                         11826.166416    \n..                                                 ...    \n235                                        3129.645024    \n236                                        8200.331867    \n237                                       16915.287846    \n238                                        3521.542063    \n239                                        3951.319481    \n\n[240 rows x 2 columns]",
      "text/html": "<div>\n<style scoped>\n    .dataframe tbody tr th:only-of-type {\n        vertical-align: middle;\n    }\n\n    .dataframe tbody tr th {\n        vertical-align: top;\n    }\n\n    .dataframe thead th {\n        text-align: right;\n    }\n</style>\n<table border=\"1\" class=\"dataframe\">\n  <thead>\n    <tr style=\"text-align: right;\">\n      <th></th>\n      <th>Entity</th>\n      <th>GDP per capita, PPP (constant 2017 international $)</th>\n    </tr>\n  </thead>\n  <tbody>\n    <tr>\n      <th>0</th>\n      <td>Afghanistan</td>\n      <td>2116.465258</td>\n    </tr>\n    <tr>\n      <th>1</th>\n      <td>Africa Eastern and Southern</td>\n      <td>3579.271917</td>\n    </tr>\n    <tr>\n      <th>2</th>\n      <td>Africa Western and Central</td>\n      <td>4202.057923</td>\n    </tr>\n    <tr>\n      <th>3</th>\n      <td>Albania</td>\n      <td>13671.488422</td>\n    </tr>\n    <tr>\n      <th>4</th>\n      <td>Algeria</td>\n      <td>11826.166416</td>\n    </tr>\n    <tr>\n      <th>...</th>\n      <td>...</td>\n      <td>...</td>\n    </tr>\n    <tr>\n      <th>235</th>\n      <td>Vanuatu</td>\n      <td>3129.645024</td>\n    </tr>\n    <tr>\n      <th>236</th>\n      <td>Vietnam</td>\n      <td>8200.331867</td>\n    </tr>\n    <tr>\n      <th>237</th>\n      <td>World</td>\n      <td>16915.287846</td>\n    </tr>\n    <tr>\n      <th>238</th>\n      <td>Zambia</td>\n      <td>3521.542063</td>\n    </tr>\n    <tr>\n      <th>239</th>\n      <td>Zimbabwe</td>\n      <td>3951.319481</td>\n    </tr>\n  </tbody>\n</table>\n<p>240 rows × 2 columns</p>\n</div>"
     },
     "execution_count": 218,
     "metadata": {},
     "output_type": "execute_result"
    }
   ],
   "source": [
    "GDP2 = GDP2.sort_values(by=\"Entity\",ascending=True).reset_index()\n",
    "GDP2"
   ],
   "metadata": {
    "collapsed": false,
    "pycharm": {
     "name": "#%%\n"
    }
   }
  },
  {
   "cell_type": "code",
   "execution_count": 219,
   "outputs": [
    {
     "data": {
      "text/plain": "              Name\n0        Argentina\n1        Australia\n2           Brazil\n3           Canada\n4            China\n5            Egypt\n6          Germany\n7        Hong Kong\n8           Israel\n9      New Zealand\n10    Saudi Arabia\n11    South Africa\n12  United Kingdom\n13   United States",
      "text/html": "<div>\n<style scoped>\n    .dataframe tbody tr th:only-of-type {\n        vertical-align: middle;\n    }\n\n    .dataframe tbody tr th {\n        vertical-align: top;\n    }\n\n    .dataframe thead th {\n        text-align: right;\n    }\n</style>\n<table border=\"1\" class=\"dataframe\">\n  <thead>\n    <tr style=\"text-align: right;\">\n      <th></th>\n      <th>Name</th>\n    </tr>\n  </thead>\n  <tbody>\n    <tr>\n      <th>0</th>\n      <td>Argentina</td>\n    </tr>\n    <tr>\n      <th>1</th>\n      <td>Australia</td>\n    </tr>\n    <tr>\n      <th>2</th>\n      <td>Brazil</td>\n    </tr>\n    <tr>\n      <th>3</th>\n      <td>Canada</td>\n    </tr>\n    <tr>\n      <th>4</th>\n      <td>China</td>\n    </tr>\n    <tr>\n      <th>5</th>\n      <td>Egypt</td>\n    </tr>\n    <tr>\n      <th>6</th>\n      <td>Germany</td>\n    </tr>\n    <tr>\n      <th>7</th>\n      <td>Hong Kong</td>\n    </tr>\n    <tr>\n      <th>8</th>\n      <td>Israel</td>\n    </tr>\n    <tr>\n      <th>9</th>\n      <td>New Zealand</td>\n    </tr>\n    <tr>\n      <th>10</th>\n      <td>Saudi Arabia</td>\n    </tr>\n    <tr>\n      <th>11</th>\n      <td>South Africa</td>\n    </tr>\n    <tr>\n      <th>12</th>\n      <td>United Kingdom</td>\n    </tr>\n    <tr>\n      <th>13</th>\n      <td>United States</td>\n    </tr>\n  </tbody>\n</table>\n</div>"
     },
     "execution_count": 219,
     "metadata": {},
     "output_type": "execute_result"
    }
   ],
   "source": [
    "# Prepare the data for selected countries\n",
    "countrylist2 = [\"Argentina\", \"Australia\", \"Brazil\", \"Canada\", \"China\", \"Egypt\", \"Germany\", \"Hong Kong\", \"Israel\",\n",
    "               \"New Zealand\", \"Saudi Arabia\", \"South Africa\", \"United Kingdom\", \"United States\"]\n",
    "countrylist2 = pan.DataFrame(countrylist2, columns=[\"Name\"])\n",
    "countrylist2"
   ],
   "metadata": {
    "collapsed": false,
    "pycharm": {
     "name": "#%%\n"
    }
   }
  },
  {
   "cell_type": "code",
   "execution_count": 220,
   "outputs": [
    {
     "data": {
      "text/plain": "              Name  GDP  Expenditure\n0        Argentina  0.0          0.0\n1        Australia  0.0          0.0\n2           Brazil  0.0          0.0\n3           Canada  0.0          0.0\n4            China  0.0          0.0\n5            Egypt  0.0          0.0\n6          Germany  0.0          0.0\n7        Hong Kong  0.0          0.0\n8           Israel  0.0          0.0\n9      New Zealand  0.0          0.0\n10    Saudi Arabia  0.0          0.0\n11    South Africa  0.0          0.0\n12  United Kingdom  0.0          0.0\n13   United States  0.0          0.0",
      "text/html": "<div>\n<style scoped>\n    .dataframe tbody tr th:only-of-type {\n        vertical-align: middle;\n    }\n\n    .dataframe tbody tr th {\n        vertical-align: top;\n    }\n\n    .dataframe thead th {\n        text-align: right;\n    }\n</style>\n<table border=\"1\" class=\"dataframe\">\n  <thead>\n    <tr style=\"text-align: right;\">\n      <th></th>\n      <th>Name</th>\n      <th>GDP</th>\n      <th>Expenditure</th>\n    </tr>\n  </thead>\n  <tbody>\n    <tr>\n      <th>0</th>\n      <td>Argentina</td>\n      <td>0.0</td>\n      <td>0.0</td>\n    </tr>\n    <tr>\n      <th>1</th>\n      <td>Australia</td>\n      <td>0.0</td>\n      <td>0.0</td>\n    </tr>\n    <tr>\n      <th>2</th>\n      <td>Brazil</td>\n      <td>0.0</td>\n      <td>0.0</td>\n    </tr>\n    <tr>\n      <th>3</th>\n      <td>Canada</td>\n      <td>0.0</td>\n      <td>0.0</td>\n    </tr>\n    <tr>\n      <th>4</th>\n      <td>China</td>\n      <td>0.0</td>\n      <td>0.0</td>\n    </tr>\n    <tr>\n      <th>5</th>\n      <td>Egypt</td>\n      <td>0.0</td>\n      <td>0.0</td>\n    </tr>\n    <tr>\n      <th>6</th>\n      <td>Germany</td>\n      <td>0.0</td>\n      <td>0.0</td>\n    </tr>\n    <tr>\n      <th>7</th>\n      <td>Hong Kong</td>\n      <td>0.0</td>\n      <td>0.0</td>\n    </tr>\n    <tr>\n      <th>8</th>\n      <td>Israel</td>\n      <td>0.0</td>\n      <td>0.0</td>\n    </tr>\n    <tr>\n      <th>9</th>\n      <td>New Zealand</td>\n      <td>0.0</td>\n      <td>0.0</td>\n    </tr>\n    <tr>\n      <th>10</th>\n      <td>Saudi Arabia</td>\n      <td>0.0</td>\n      <td>0.0</td>\n    </tr>\n    <tr>\n      <th>11</th>\n      <td>South Africa</td>\n      <td>0.0</td>\n      <td>0.0</td>\n    </tr>\n    <tr>\n      <th>12</th>\n      <td>United Kingdom</td>\n      <td>0.0</td>\n      <td>0.0</td>\n    </tr>\n    <tr>\n      <th>13</th>\n      <td>United States</td>\n      <td>0.0</td>\n      <td>0.0</td>\n    </tr>\n  </tbody>\n</table>\n</div>"
     },
     "execution_count": 220,
     "metadata": {},
     "output_type": "execute_result"
    }
   ],
   "source": [
    "countrylist2[\"GDP\"] = 0.0\n",
    "countrylist2[\"Expenditure\"] = 0.0\n",
    "listlen2 = len(countrylist2)\n",
    "countrylist2"
   ],
   "metadata": {
    "collapsed": false,
    "pycharm": {
     "name": "#%%\n"
    }
   }
  },
  {
   "cell_type": "code",
   "execution_count": 221,
   "outputs": [
    {
     "name": "stdout",
     "output_type": "stream",
     "text": [
      "14\n"
     ]
    }
   ],
   "source": [
    "lencountry2 = len(countrylist2)\n",
    "print(lencountry2)"
   ],
   "metadata": {
    "collapsed": false,
    "pycharm": {
     "name": "#%%\n"
    }
   }
  },
  {
   "cell_type": "code",
   "execution_count": 222,
   "outputs": [],
   "source": [
    "count1b=0\n",
    "for ind1 in range(len(expenditure2)):\n",
    "    if (count1b < lencountry2):\n",
    "        if (countrylist2[\"Name\"][count1b] == expenditure2[\"Entity\"][ind1]):\n",
    "            countrylist2.loc[0:,\"Expenditure\"][count1b] = expenditure2[\"Government expenditure on education, total (% of GDP)\"][ind1]\n",
    "            count1b+=1"
   ],
   "metadata": {
    "collapsed": false,
    "pycharm": {
     "name": "#%%\n"
    }
   }
  },
  {
   "cell_type": "code",
   "execution_count": 223,
   "outputs": [
    {
     "data": {
      "text/plain": "              Name  GDP  Expenditure\n0        Argentina  0.0     3.317577\n1        Australia  0.0     5.151343\n2           Brazil  0.0     5.080326\n3           Canada  0.0     6.197651\n4            China  0.0     1.908977\n5            Egypt  0.0     4.600963\n6          Germany  0.0     4.667312\n7        Hong Kong  0.0     3.086896\n8           Israel  0.0     6.065511\n9      New Zealand  0.0     5.548614\n10    Saudi Arabia  0.0     5.959900\n11    South Africa  0.0     5.461569\n12  United Kingdom  0.0     4.948231\n13   United States  0.0     4.946395",
      "text/html": "<div>\n<style scoped>\n    .dataframe tbody tr th:only-of-type {\n        vertical-align: middle;\n    }\n\n    .dataframe tbody tr th {\n        vertical-align: top;\n    }\n\n    .dataframe thead th {\n        text-align: right;\n    }\n</style>\n<table border=\"1\" class=\"dataframe\">\n  <thead>\n    <tr style=\"text-align: right;\">\n      <th></th>\n      <th>Name</th>\n      <th>GDP</th>\n      <th>Expenditure</th>\n    </tr>\n  </thead>\n  <tbody>\n    <tr>\n      <th>0</th>\n      <td>Argentina</td>\n      <td>0.0</td>\n      <td>3.317577</td>\n    </tr>\n    <tr>\n      <th>1</th>\n      <td>Australia</td>\n      <td>0.0</td>\n      <td>5.151343</td>\n    </tr>\n    <tr>\n      <th>2</th>\n      <td>Brazil</td>\n      <td>0.0</td>\n      <td>5.080326</td>\n    </tr>\n    <tr>\n      <th>3</th>\n      <td>Canada</td>\n      <td>0.0</td>\n      <td>6.197651</td>\n    </tr>\n    <tr>\n      <th>4</th>\n      <td>China</td>\n      <td>0.0</td>\n      <td>1.908977</td>\n    </tr>\n    <tr>\n      <th>5</th>\n      <td>Egypt</td>\n      <td>0.0</td>\n      <td>4.600963</td>\n    </tr>\n    <tr>\n      <th>6</th>\n      <td>Germany</td>\n      <td>0.0</td>\n      <td>4.667312</td>\n    </tr>\n    <tr>\n      <th>7</th>\n      <td>Hong Kong</td>\n      <td>0.0</td>\n      <td>3.086896</td>\n    </tr>\n    <tr>\n      <th>8</th>\n      <td>Israel</td>\n      <td>0.0</td>\n      <td>6.065511</td>\n    </tr>\n    <tr>\n      <th>9</th>\n      <td>New Zealand</td>\n      <td>0.0</td>\n      <td>5.548614</td>\n    </tr>\n    <tr>\n      <th>10</th>\n      <td>Saudi Arabia</td>\n      <td>0.0</td>\n      <td>5.959900</td>\n    </tr>\n    <tr>\n      <th>11</th>\n      <td>South Africa</td>\n      <td>0.0</td>\n      <td>5.461569</td>\n    </tr>\n    <tr>\n      <th>12</th>\n      <td>United Kingdom</td>\n      <td>0.0</td>\n      <td>4.948231</td>\n    </tr>\n    <tr>\n      <th>13</th>\n      <td>United States</td>\n      <td>0.0</td>\n      <td>4.946395</td>\n    </tr>\n  </tbody>\n</table>\n</div>"
     },
     "execution_count": 223,
     "metadata": {},
     "output_type": "execute_result"
    }
   ],
   "source": [
    "countrylist2"
   ],
   "metadata": {
    "collapsed": false,
    "pycharm": {
     "name": "#%%\n"
    }
   }
  },
  {
   "cell_type": "code",
   "execution_count": 224,
   "outputs": [],
   "source": [
    "count2b=0\n",
    "for ind1 in range(len(GDP2)):\n",
    "    if (count2b < 14):\n",
    "        if (countrylist2[\"Name\"][count2b] == GDP2[\"Entity\"][ind1]):\n",
    "            countrylist2.loc[0:,\"GDP\"][count2b] = GDP2[\"GDP per capita, PPP (constant 2017 international $)\"][ind1]\n",
    "            count2b+=1"
   ],
   "metadata": {
    "collapsed": false,
    "pycharm": {
     "name": "#%%\n"
    }
   }
  },
  {
   "cell_type": "code",
   "execution_count": 225,
   "outputs": [
    {
     "data": {
      "text/plain": "              Name           GDP  Expenditure\n0        Argentina  24647.629274     3.317577\n1        Australia  49455.538508     5.151343\n2           Brazil  15805.222910     5.080326\n3           Canada  49006.743107     6.197651\n4            China  16410.797797     1.908977\n5            Egypt  11951.447527     4.600963\n6          Germany  53639.260722     4.667312\n7        Hong Kong  61062.947653     3.086896\n8           Israel  40007.319158     6.065511\n9      New Zealand  42877.942911     5.548614\n10    Saudi Arabia  48921.215252     5.959900\n11    South Africa  12884.484598     5.461569\n12  United Kingdom  46406.461748     4.948231\n13   United States  62630.873277     4.946395",
      "text/html": "<div>\n<style scoped>\n    .dataframe tbody tr th:only-of-type {\n        vertical-align: middle;\n    }\n\n    .dataframe tbody tr th {\n        vertical-align: top;\n    }\n\n    .dataframe thead th {\n        text-align: right;\n    }\n</style>\n<table border=\"1\" class=\"dataframe\">\n  <thead>\n    <tr style=\"text-align: right;\">\n      <th></th>\n      <th>Name</th>\n      <th>GDP</th>\n      <th>Expenditure</th>\n    </tr>\n  </thead>\n  <tbody>\n    <tr>\n      <th>0</th>\n      <td>Argentina</td>\n      <td>24647.629274</td>\n      <td>3.317577</td>\n    </tr>\n    <tr>\n      <th>1</th>\n      <td>Australia</td>\n      <td>49455.538508</td>\n      <td>5.151343</td>\n    </tr>\n    <tr>\n      <th>2</th>\n      <td>Brazil</td>\n      <td>15805.222910</td>\n      <td>5.080326</td>\n    </tr>\n    <tr>\n      <th>3</th>\n      <td>Canada</td>\n      <td>49006.743107</td>\n      <td>6.197651</td>\n    </tr>\n    <tr>\n      <th>4</th>\n      <td>China</td>\n      <td>16410.797797</td>\n      <td>1.908977</td>\n    </tr>\n    <tr>\n      <th>5</th>\n      <td>Egypt</td>\n      <td>11951.447527</td>\n      <td>4.600963</td>\n    </tr>\n    <tr>\n      <th>6</th>\n      <td>Germany</td>\n      <td>53639.260722</td>\n      <td>4.667312</td>\n    </tr>\n    <tr>\n      <th>7</th>\n      <td>Hong Kong</td>\n      <td>61062.947653</td>\n      <td>3.086896</td>\n    </tr>\n    <tr>\n      <th>8</th>\n      <td>Israel</td>\n      <td>40007.319158</td>\n      <td>6.065511</td>\n    </tr>\n    <tr>\n      <th>9</th>\n      <td>New Zealand</td>\n      <td>42877.942911</td>\n      <td>5.548614</td>\n    </tr>\n    <tr>\n      <th>10</th>\n      <td>Saudi Arabia</td>\n      <td>48921.215252</td>\n      <td>5.959900</td>\n    </tr>\n    <tr>\n      <th>11</th>\n      <td>South Africa</td>\n      <td>12884.484598</td>\n      <td>5.461569</td>\n    </tr>\n    <tr>\n      <th>12</th>\n      <td>United Kingdom</td>\n      <td>46406.461748</td>\n      <td>4.948231</td>\n    </tr>\n    <tr>\n      <th>13</th>\n      <td>United States</td>\n      <td>62630.873277</td>\n      <td>4.946395</td>\n    </tr>\n  </tbody>\n</table>\n</div>"
     },
     "execution_count": 225,
     "metadata": {},
     "output_type": "execute_result"
    }
   ],
   "source": [
    "countrylist2"
   ],
   "metadata": {
    "collapsed": false,
    "pycharm": {
     "name": "#%%\n"
    }
   }
  },
  {
   "cell_type": "code",
   "execution_count": 226,
   "outputs": [],
   "source": [
    "# Explore the relationship"
   ],
   "metadata": {
    "collapsed": false,
    "pycharm": {
     "name": "#%%\n"
    }
   }
  },
  {
   "cell_type": "code",
   "execution_count": 227,
   "outputs": [
    {
     "data": {
      "text/plain": "<Figure size 432x288 with 1 Axes>",
      "image/png": "[encoded data removed]"
     },
     "metadata": {
      "needs_background": "light"
     },
     "output_type": "display_data"
    }
   ],
   "source": [
    "mat.scatter(countrylist2[\"Expenditure\"],countrylist2[\"GDP\"])\n",
    "mat.xlabel(\"Expenditure\")\n",
    "mat.ylabel(\"GDP\")\n",
    "mat.show()"
   ],
   "metadata": {
    "collapsed": false,
    "pycharm": {
     "name": "#%%\n"
    }
   }
  },
  {
   "cell_type": "code",
   "execution_count": 228,
   "outputs": [
    {
     "data": {
      "text/plain": "             Expenditure       GDP\nExpenditure     1.000000  0.227428\nGDP             0.227428  1.000000",
      "text/html": "<div>\n<style scoped>\n    .dataframe tbody tr th:only-of-type {\n        vertical-align: middle;\n    }\n\n    .dataframe tbody tr th {\n        vertical-align: top;\n    }\n\n    .dataframe thead th {\n        text-align: right;\n    }\n</style>\n<table border=\"1\" class=\"dataframe\">\n  <thead>\n    <tr style=\"text-align: right;\">\n      <th></th>\n      <th>Expenditure</th>\n      <th>GDP</th>\n    </tr>\n  </thead>\n  <tbody>\n    <tr>\n      <th>Expenditure</th>\n      <td>1.000000</td>\n      <td>0.227428</td>\n    </tr>\n    <tr>\n      <th>GDP</th>\n      <td>0.227428</td>\n      <td>1.000000</td>\n    </tr>\n  </tbody>\n</table>\n</div>"
     },
     "execution_count": 228,
     "metadata": {},
     "output_type": "execute_result"
    }
   ],
   "source": [
    "corr2 = countrylist2[[\"Expenditure\", \"GDP\"]]\n",
    "corr2.corr()"
   ],
   "metadata": {
    "collapsed": false,
    "pycharm": {
     "name": "#%%\n"
    }
   }
  },
  {
   "cell_type": "markdown",
   "source": [
    "### Conclusion for scenario 2\n",
    "#### The correlation is positive, but it is not very strong."
   ],
   "metadata": {
    "collapsed": false,
    "pycharm": {
     "name": "#%% md\n"
    }
   }
  },
  {
   "cell_type": "code",
   "execution_count": 229,
   "outputs": [],
   "source": [
    "# scenario 3 - using categorical expenditure and GDP mean values"
   ],
   "metadata": {
    "collapsed": false,
    "pycharm": {
     "name": "#%%\n"
    }
   }
  },
  {
   "cell_type": "code",
   "execution_count": 230,
   "outputs": [],
   "source": [
    "# prepare the data on expenditure\n",
    "con1a = df1[\"Entity\"] == \"High income\"\n",
    "con1b = df1[\"Entity\"] == \"Middle income\"\n",
    "con1c = df1[\"Entity\"] == \"Low & middle income\""
   ],
   "metadata": {
    "collapsed": false,
    "pycharm": {
     "name": "#%%\n"
    }
   }
  },
  {
   "cell_type": "code",
   "execution_count": 231,
   "outputs": [],
   "source": [
    "ex1 = df1[con1a+con1b+con1c]"
   ],
   "metadata": {
    "collapsed": false,
    "pycharm": {
     "name": "#%%\n"
    }
   }
  },
  {
   "cell_type": "code",
   "execution_count": 232,
   "outputs": [
    {
     "data": {
      "text/plain": "             Entity Code  Year  \\\n1774    High income  NaN  1974   \n1775    High income  NaN  1975   \n1776    High income  NaN  1976   \n1777    High income  NaN  1978   \n1778    High income  NaN  1979   \n...             ...  ...   ...   \n2992  Middle income  NaN  2013   \n2993  Middle income  NaN  2014   \n2994  Middle income  NaN  2015   \n2995  Middle income  NaN  2016   \n2996  Middle income  NaN  2017   \n\n      Government expenditure on education, total (% of GDP)  \n1774                                           4.482310      \n1775                                           4.851115      \n1776                                           4.728925      \n1777                                           4.713470      \n1778                                           4.637140      \n...                                                 ...      \n2992                                           4.074200      \n2993                                           4.491820      \n2994                                           4.490640      \n2995                                           4.026735      \n2996                                           4.357680      \n\n[74 rows x 4 columns]",
      "text/html": "<div>\n<style scoped>\n    .dataframe tbody tr th:only-of-type {\n        vertical-align: middle;\n    }\n\n    .dataframe tbody tr th {\n        vertical-align: top;\n    }\n\n    .dataframe thead th {\n        text-align: right;\n    }\n</style>\n<table border=\"1\" class=\"dataframe\">\n  <thead>\n    <tr style=\"text-align: right;\">\n      <th></th>\n      <th>Entity</th>\n      <th>Code</th>\n      <th>Year</th>\n      <th>Government expenditure on education, total (% of GDP)</th>\n    </tr>\n  </thead>\n  <tbody>\n    <tr>\n      <th>1774</th>\n      <td>High income</td>\n      <td>NaN</td>\n      <td>1974</td>\n      <td>4.482310</td>\n    </tr>\n    <tr>\n      <th>1775</th>\n      <td>High income</td>\n      <td>NaN</td>\n      <td>1975</td>\n      <td>4.851115</td>\n    </tr>\n    <tr>\n      <th>1776</th>\n      <td>High income</td>\n      <td>NaN</td>\n      <td>1976</td>\n      <td>4.728925</td>\n    </tr>\n    <tr>\n      <th>1777</th>\n      <td>High income</td>\n      <td>NaN</td>\n      <td>1978</td>\n      <td>4.713470</td>\n    </tr>\n    <tr>\n      <th>1778</th>\n      <td>High income</td>\n      <td>NaN</td>\n      <td>1979</td>\n      <td>4.637140</td>\n    </tr>\n    <tr>\n      <th>...</th>\n      <td>...</td>\n      <td>...</td>\n      <td>...</td>\n      <td>...</td>\n    </tr>\n    <tr>\n      <th>2992</th>\n      <td>Middle income</td>\n      <td>NaN</td>\n      <td>2013</td>\n      <td>4.074200</td>\n    </tr>\n    <tr>\n      <th>2993</th>\n      <td>Middle income</td>\n      <td>NaN</td>\n      <td>2014</td>\n      <td>4.491820</td>\n    </tr>\n    <tr>\n      <th>2994</th>\n      <td>Middle income</td>\n      <td>NaN</td>\n      <td>2015</td>\n      <td>4.490640</td>\n    </tr>\n    <tr>\n      <th>2995</th>\n      <td>Middle income</td>\n      <td>NaN</td>\n      <td>2016</td>\n      <td>4.026735</td>\n    </tr>\n    <tr>\n      <th>2996</th>\n      <td>Middle income</td>\n      <td>NaN</td>\n      <td>2017</td>\n      <td>4.357680</td>\n    </tr>\n  </tbody>\n</table>\n<p>74 rows × 4 columns</p>\n</div>"
     },
     "execution_count": 232,
     "metadata": {},
     "output_type": "execute_result"
    }
   ],
   "source": [
    "ex1"
   ],
   "metadata": {
    "collapsed": false,
    "pycharm": {
     "name": "#%%\n"
    }
   }
  },
  {
   "cell_type": "code",
   "execution_count": 233,
   "outputs": [
    {
     "data": {
      "text/plain": "                Entity  Government expenditure on education, total (% of GDP)\n0          High income                                           4.901246    \n1  Low & middle income                                           3.736427    \n2        Middle income                                           3.967872    ",
      "text/html": "<div>\n<style scoped>\n    .dataframe tbody tr th:only-of-type {\n        vertical-align: middle;\n    }\n\n    .dataframe tbody tr th {\n        vertical-align: top;\n    }\n\n    .dataframe thead th {\n        text-align: right;\n    }\n</style>\n<table border=\"1\" class=\"dataframe\">\n  <thead>\n    <tr style=\"text-align: right;\">\n      <th></th>\n      <th>Entity</th>\n      <th>Government expenditure on education, total (% of GDP)</th>\n    </tr>\n  </thead>\n  <tbody>\n    <tr>\n      <th>0</th>\n      <td>High income</td>\n      <td>4.901246</td>\n    </tr>\n    <tr>\n      <th>1</th>\n      <td>Low &amp; middle income</td>\n      <td>3.736427</td>\n    </tr>\n    <tr>\n      <th>2</th>\n      <td>Middle income</td>\n      <td>3.967872</td>\n    </tr>\n  </tbody>\n</table>\n</div>"
     },
     "execution_count": 233,
     "metadata": {},
     "output_type": "execute_result"
    }
   ],
   "source": [
    "ex1 = ex1.groupby([\"Entity\"])[[\"Government expenditure on education, total (% of GDP)\"]].agg(num.mean).reset_index()\n",
    "ex1"
   ],
   "metadata": {
    "collapsed": false,
    "pycharm": {
     "name": "#%%\n"
    }
   }
  },
  {
   "cell_type": "code",
   "execution_count": 234,
   "outputs": [],
   "source": [
    "# prepare the data on GDP\n",
    "con2a = df2[\"Entity\"] == \"High income\"\n",
    "con2b = df2[\"Entity\"] == \"Middle income\"\n",
    "con2c = df2[\"Entity\"] == \"Low & middle income\""
   ],
   "metadata": {
    "collapsed": false,
    "pycharm": {
     "name": "#%%\n"
    }
   }
  },
  {
   "cell_type": "code",
   "execution_count": 235,
   "outputs": [],
   "source": [
    "gdp1 = df2[con2a+con2b+con2c]"
   ],
   "metadata": {
    "collapsed": false,
    "pycharm": {
     "name": "#%%\n"
    }
   }
  },
  {
   "cell_type": "code",
   "execution_count": 236,
   "outputs": [
    {
     "data": {
      "text/plain": "             Entity Code  Year  \\\n2668    High income  NaN  1990   \n2669    High income  NaN  1991   \n2670    High income  NaN  1992   \n2671    High income  NaN  1993   \n2672    High income  NaN  1994   \n...             ...  ...   ...   \n4366  Middle income  NaN  2016   \n4367  Middle income  NaN  2017   \n4368  Middle income  NaN  2018   \n4369  Middle income  NaN  2019   \n4370  Middle income  NaN  2020   \n\n      GDP per capita, PPP (constant 2017 international $)  \n2668                                       32045.805755    \n2669                                       32339.294597    \n2670                                       32867.616182    \n2671                                       33027.614228    \n2672                                       33858.139811    \n...                                                 ...    \n4366                                       10472.943640    \n4367                                       10884.671933    \n4368                                       11274.610855    \n4369                                       11577.730986    \n4370                                       11209.933149    \n\n[93 rows x 4 columns]",
      "text/html": "<div>\n<style scoped>\n    .dataframe tbody tr th:only-of-type {\n        vertical-align: middle;\n    }\n\n    .dataframe tbody tr th {\n        vertical-align: top;\n    }\n\n    .dataframe thead th {\n        text-align: right;\n    }\n</style>\n<table border=\"1\" class=\"dataframe\">\n  <thead>\n    <tr style=\"text-align: right;\">\n      <th></th>\n      <th>Entity</th>\n      <th>Code</th>\n      <th>Year</th>\n      <th>GDP per capita, PPP (constant 2017 international $)</th>\n    </tr>\n  </thead>\n  <tbody>\n    <tr>\n      <th>2668</th>\n      <td>High income</td>\n      <td>NaN</td>\n      <td>1990</td>\n      <td>32045.805755</td>\n    </tr>\n    <tr>\n      <th>2669</th>\n      <td>High income</td>\n      <td>NaN</td>\n      <td>1991</td>\n      <td>32339.294597</td>\n    </tr>\n    <tr>\n      <th>2670</th>\n      <td>High income</td>\n      <td>NaN</td>\n      <td>1992</td>\n      <td>32867.616182</td>\n    </tr>\n    <tr>\n      <th>2671</th>\n      <td>High income</td>\n      <td>NaN</td>\n      <td>1993</td>\n      <td>33027.614228</td>\n    </tr>\n    <tr>\n      <th>2672</th>\n      <td>High income</td>\n      <td>NaN</td>\n      <td>1994</td>\n      <td>33858.139811</td>\n    </tr>\n    <tr>\n      <th>...</th>\n      <td>...</td>\n      <td>...</td>\n      <td>...</td>\n      <td>...</td>\n    </tr>\n    <tr>\n      <th>4366</th>\n      <td>Middle income</td>\n      <td>NaN</td>\n      <td>2016</td>\n      <td>10472.943640</td>\n    </tr>\n    <tr>\n      <th>4367</th>\n      <td>Middle income</td>\n      <td>NaN</td>\n      <td>2017</td>\n      <td>10884.671933</td>\n    </tr>\n    <tr>\n      <th>4368</th>\n      <td>Middle income</td>\n      <td>NaN</td>\n      <td>2018</td>\n      <td>11274.610855</td>\n    </tr>\n    <tr>\n      <th>4369</th>\n      <td>Middle income</td>\n      <td>NaN</td>\n      <td>2019</td>\n      <td>11577.730986</td>\n    </tr>\n    <tr>\n      <th>4370</th>\n      <td>Middle income</td>\n      <td>NaN</td>\n      <td>2020</td>\n      <td>11209.933149</td>\n    </tr>\n  </tbody>\n</table>\n<p>93 rows × 4 columns</p>\n</div>"
     },
     "execution_count": 236,
     "metadata": {},
     "output_type": "execute_result"
    }
   ],
   "source": [
    "gdp1"
   ],
   "metadata": {
    "collapsed": false,
    "pycharm": {
     "name": "#%%\n"
    }
   }
  },
  {
   "cell_type": "code",
   "execution_count": 237,
   "outputs": [
    {
     "data": {
      "text/plain": "                Entity  GDP per capita, PPP (constant 2017 international $)\n0          High income                                       41529.111668  \n1  Low & middle income                                        6710.450045  \n2        Middle income                                        7196.224520  ",
      "text/html": "<div>\n<style scoped>\n    .dataframe tbody tr th:only-of-type {\n        vertical-align: middle;\n    }\n\n    .dataframe tbody tr th {\n        vertical-align: top;\n    }\n\n    .dataframe thead th {\n        text-align: right;\n    }\n</style>\n<table border=\"1\" class=\"dataframe\">\n  <thead>\n    <tr style=\"text-align: right;\">\n      <th></th>\n      <th>Entity</th>\n      <th>GDP per capita, PPP (constant 2017 international $)</th>\n    </tr>\n  </thead>\n  <tbody>\n    <tr>\n      <th>0</th>\n      <td>High income</td>\n      <td>41529.111668</td>\n    </tr>\n    <tr>\n      <th>1</th>\n      <td>Low &amp; middle income</td>\n      <td>6710.450045</td>\n    </tr>\n    <tr>\n      <th>2</th>\n      <td>Middle income</td>\n      <td>7196.224520</td>\n    </tr>\n  </tbody>\n</table>\n</div>"
     },
     "execution_count": 237,
     "metadata": {},
     "output_type": "execute_result"
    }
   ],
   "source": [
    "gdp1 = gdp1.groupby([\"Entity\"])[[\"GDP per capita, PPP (constant 2017 international $)\"]].agg(num.mean).reset_index()\n",
    "gdp1"
   ],
   "metadata": {
    "collapsed": false,
    "pycharm": {
     "name": "#%%\n"
    }
   }
  },
  {
   "cell_type": "code",
   "execution_count": 238,
   "outputs": [],
   "source": [
    "# Explore the data"
   ],
   "metadata": {
    "collapsed": false,
    "pycharm": {
     "name": "#%%\n"
    }
   }
  },
  {
   "cell_type": "code",
   "execution_count": 239,
   "outputs": [
    {
     "data": {
      "text/plain": "<Figure size 432x288 with 1 Axes>",
      "image/png": "[encoded data removed]"
     },
     "metadata": {
      "needs_background": "light"
     },
     "output_type": "display_data"
    }
   ],
   "source": [
    "mat.scatter(ex1[\"Government expenditure on education, total (% of GDP)\"],gdp1[\"GDP per capita, PPP (constant 2017 international $)\"], color=\"green\")\n",
    "mat.xlabel(\"Expenditure\")\n",
    "mat.ylabel(\"GDP\")\n",
    "mat.show()"
   ],
   "metadata": {
    "collapsed": false,
    "pycharm": {
     "name": "#%%\n"
    }
   }
  },
  {
   "cell_type": "markdown",
   "source": [],
   "metadata": {
    "collapsed": false
   }
  },
  {
   "cell_type": "code",
   "execution_count": 240,
   "outputs": [],
   "source": [
    "com1 = pan.DataFrame(ex1[\"Government expenditure on education, total (% of GDP)\"])"
   ],
   "metadata": {
    "collapsed": false,
    "pycharm": {
     "name": "#%%\n"
    }
   }
  },
  {
   "cell_type": "code",
   "execution_count": 241,
   "outputs": [
    {
     "data": {
      "text/plain": "   Government expenditure on education, total (% of GDP)\n0                                           4.901246    \n1                                           3.736427    \n2                                           3.967872    ",
      "text/html": "<div>\n<style scoped>\n    .dataframe tbody tr th:only-of-type {\n        vertical-align: middle;\n    }\n\n    .dataframe tbody tr th {\n        vertical-align: top;\n    }\n\n    .dataframe thead th {\n        text-align: right;\n    }\n</style>\n<table border=\"1\" class=\"dataframe\">\n  <thead>\n    <tr style=\"text-align: right;\">\n      <th></th>\n      <th>Government expenditure on education, total (% of GDP)</th>\n    </tr>\n  </thead>\n  <tbody>\n    <tr>\n      <th>0</th>\n      <td>4.901246</td>\n    </tr>\n    <tr>\n      <th>1</th>\n      <td>3.736427</td>\n    </tr>\n    <tr>\n      <th>2</th>\n      <td>3.967872</td>\n    </tr>\n  </tbody>\n</table>\n</div>"
     },
     "execution_count": 241,
     "metadata": {},
     "output_type": "execute_result"
    }
   ],
   "source": [
    "com1"
   ],
   "metadata": {
    "collapsed": false,
    "pycharm": {
     "name": "#%%\n"
    }
   }
  },
  {
   "cell_type": "code",
   "execution_count": 242,
   "outputs": [],
   "source": [
    "com1[\"GDP\"] = gdp1[\"GDP per capita, PPP (constant 2017 international $)\"]"
   ],
   "metadata": {
    "collapsed": false,
    "pycharm": {
     "name": "#%%\n"
    }
   }
  },
  {
   "cell_type": "markdown",
   "source": [],
   "metadata": {
    "collapsed": false,
    "pycharm": {
     "name": "#%% md\n"
    }
   }
  },
  {
   "cell_type": "code",
   "execution_count": 243,
   "outputs": [
    {
     "data": {
      "text/plain": "   Government expenditure on education, total (% of GDP)           GDP\n0                                           4.901246      41529.111668\n1                                           3.736427       6710.450045\n2                                           3.967872       7196.224520",
      "text/html": "<div>\n<style scoped>\n    .dataframe tbody tr th:only-of-type {\n        vertical-align: middle;\n    }\n\n    .dataframe tbody tr th {\n        vertical-align: top;\n    }\n\n    .dataframe thead th {\n        text-align: right;\n    }\n</style>\n<table border=\"1\" class=\"dataframe\">\n  <thead>\n    <tr style=\"text-align: right;\">\n      <th></th>\n      <th>Government expenditure on education, total (% of GDP)</th>\n      <th>GDP</th>\n    </tr>\n  </thead>\n  <tbody>\n    <tr>\n      <th>0</th>\n      <td>4.901246</td>\n      <td>41529.111668</td>\n    </tr>\n    <tr>\n      <th>1</th>\n      <td>3.736427</td>\n      <td>6710.450045</td>\n    </tr>\n    <tr>\n      <th>2</th>\n      <td>3.967872</td>\n      <td>7196.224520</td>\n    </tr>\n  </tbody>\n</table>\n</div>"
     },
     "execution_count": 243,
     "metadata": {},
     "output_type": "execute_result"
    }
   ],
   "source": [
    "com1"
   ],
   "metadata": {
    "collapsed": false,
    "pycharm": {
     "name": "#%%\n"
    }
   }
  },
  {
   "cell_type": "code",
   "execution_count": 244,
   "outputs": [
    {
     "data": {
      "text/plain": "                                                    Government expenditure on education, total (% of GDP)  \\\nGovernment expenditure on education, total (% o...                                           1.000000       \nGDP                                                                                          0.984444       \n\n                                                         GDP  \nGovernment expenditure on education, total (% o...  0.984444  \nGDP                                                 1.000000  ",
      "text/html": "<div>\n<style scoped>\n    .dataframe tbody tr th:only-of-type {\n        vertical-align: middle;\n    }\n\n    .dataframe tbody tr th {\n        vertical-align: top;\n    }\n\n    .dataframe thead th {\n        text-align: right;\n    }\n</style>\n<table border=\"1\" class=\"dataframe\">\n  <thead>\n    <tr style=\"text-align: right;\">\n      <th></th>\n      <th>Government expenditure on education, total (% of GDP)</th>\n      <th>GDP</th>\n    </tr>\n  </thead>\n  <tbody>\n    <tr>\n      <th>Government expenditure on education, total (% of GDP)</th>\n      <td>1.000000</td>\n      <td>0.984444</td>\n    </tr>\n    <tr>\n      <th>GDP</th>\n      <td>0.984444</td>\n      <td>1.000000</td>\n    </tr>\n  </tbody>\n</table>\n</div>"
     },
     "execution_count": 244,
     "metadata": {},
     "output_type": "execute_result"
    }
   ],
   "source": [
    "com1.corr()"
   ],
   "metadata": {
    "collapsed": false,
    "pycharm": {
     "name": "#%%\n"
    }
   }
  },
  {
   "cell_type": "markdown",
   "source": [
    "### Conclusion for scenario 3\n",
    "#### The correlation is positive and it is very strong. The strong positive correlation shows that countries with higher expenditure on education tend to have higher GDP as well."
   ],
   "metadata": {
    "collapsed": false,
    "pycharm": {
     "name": "#%% md\n"
    }
   }
  },
  {
   "cell_type": "markdown",
   "source": [
    "### Summary\n",
    "#### The results for scenarios 1 and 2 showed that the sample size is quite important in determining the accuracy of the data. With appropriate data size, the accuracy will improve for data with inherent positive relationship."
   ],
   "metadata": {
    "collapsed": false,
    "pycharm": {
     "name": "#%% md\n"
    }
   }
  }
 ],
 "metadata": {
  "kernelspec": {
   "display_name": "Python 3",
   "language": "python",
   "name": "python3"
  },
  "language_info": {
   "codemirror_mode": {
    "name": "ipython",
    "version": 2
   },
   "file_extension": ".py",
   "mimetype": "text/x-python",
   "name": "python",
   "nbconvert_exporter": "python",
   "pygments_lexer": "ipython2",
   "version": "2.7.6"
  }
 },
 "nbformat": 4,
 "nbformat_minor": 0
}