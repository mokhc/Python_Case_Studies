{
 "cells": [
  {
   "cell_type": "code",
   "execution_count": 1,
   "metadata": {
    "collapsed": true
   },
   "outputs": [],
   "source": [
    "import pandas as pan\n",
    "import numpy as num\n",
    "import matplotlib.pyplot as mat\n",
    "import os"
   ]
  },
  {
   "cell_type": "code",
   "execution_count": 2,
   "outputs": [],
   "source": [
    "# Get the current working directory\n",
    "# The current working directory is the one storing the ipynb file\n",
    "wd = os.getcwd()"
   ],
   "metadata": {
    "collapsed": false,
    "pycharm": {
     "name": "#%%\n"
    }
   }
  },
  {
   "cell_type": "markdown",
   "source": [
    "### This case study tries to explore the relationship between literacy and the mobile adoption of a country. The result could be used to gauge the technological adoption of a country.  We will be using the following two sets of data:\n",
    "#### https://ourworldindata.org/technology-adoption#mobile-phone-adoption\n",
    "#### https://ourworldindata.org/literacy"
   ],
   "metadata": {
    "collapsed": false,
    "pycharm": {
     "name": "#%% md\n"
    }
   }
  },
  {
   "cell_type": "code",
   "execution_count": 3,
   "outputs": [],
   "source": [
    "# scenario 1 - using the mean literacy and mean mobile adoption values of selected countries"
   ],
   "metadata": {
    "collapsed": false,
    "pycharm": {
     "name": "#%%\n"
    }
   }
  },
  {
   "cell_type": "code",
   "execution_count": 4,
   "outputs": [],
   "source": [
    "# https://ourworldindata.org/technology-adoption#mobile-phone-adoption\n",
    "# Get the data\n",
    "df1a = pan.read_csv(\"literacy-rate-adults.csv\")"
   ],
   "metadata": {
    "collapsed": false,
    "pycharm": {
     "name": "#%%\n"
    }
   }
  },
  {
   "cell_type": "code",
   "execution_count": 5,
   "outputs": [
    {
     "data": {
      "text/plain": "        Entity Code  Year  \\\n0  Afghanistan  AFG  1979   \n1  Afghanistan  AFG  2011   \n2  Afghanistan  AFG  2018   \n3      Albania  ALB  2001   \n4      Albania  ALB  2008   \n\n   Literacy rate, adult total (% of people ages 15 and above)  \n0                                          18.157681           \n1                                          31.448851           \n2                                          43.019718           \n3                                          98.712982           \n4                                          95.938637           ",
      "text/html": "<div>\n<style scoped>\n    .dataframe tbody tr th:only-of-type {\n        vertical-align: middle;\n    }\n\n    .dataframe tbody tr th {\n        vertical-align: top;\n    }\n\n    .dataframe thead th {\n        text-align: right;\n    }\n</style>\n<table border=\"1\" class=\"dataframe\">\n  <thead>\n    <tr style=\"text-align: right;\">\n      <th></th>\n      <th>Entity</th>\n      <th>Code</th>\n      <th>Year</th>\n      <th>Literacy rate, adult total (% of people ages 15 and above)</th>\n    </tr>\n  </thead>\n  <tbody>\n    <tr>\n      <th>0</th>\n      <td>Afghanistan</td>\n      <td>AFG</td>\n      <td>1979</td>\n      <td>18.157681</td>\n    </tr>\n    <tr>\n      <th>1</th>\n      <td>Afghanistan</td>\n      <td>AFG</td>\n      <td>2011</td>\n      <td>31.448851</td>\n    </tr>\n    <tr>\n      <th>2</th>\n      <td>Afghanistan</td>\n      <td>AFG</td>\n      <td>2018</td>\n      <td>43.019718</td>\n    </tr>\n    <tr>\n      <th>3</th>\n      <td>Albania</td>\n      <td>ALB</td>\n      <td>2001</td>\n      <td>98.712982</td>\n    </tr>\n    <tr>\n      <th>4</th>\n      <td>Albania</td>\n      <td>ALB</td>\n      <td>2008</td>\n      <td>95.938637</td>\n    </tr>\n  </tbody>\n</table>\n</div>"
     },
     "execution_count": 5,
     "metadata": {},
     "output_type": "execute_result"
    }
   ],
   "source": [
    "df1a.head()"
   ],
   "metadata": {
    "collapsed": false,
    "pycharm": {
     "name": "#%%\n"
    }
   }
  },
  {
   "cell_type": "code",
   "execution_count": 6,
   "outputs": [
    {
     "data": {
      "text/plain": "(2504, 4)"
     },
     "execution_count": 6,
     "metadata": {},
     "output_type": "execute_result"
    }
   ],
   "source": [
    "df1a.shape"
   ],
   "metadata": {
    "collapsed": false,
    "pycharm": {
     "name": "#%%\n"
    }
   }
  },
  {
   "cell_type": "code",
   "execution_count": 7,
   "outputs": [
    {
     "data": {
      "text/plain": "Entity                                                         object\nCode                                                           object\nYear                                                            int64\nLiteracy rate, adult total (% of people ages 15 and above)    float64\ndtype: object"
     },
     "execution_count": 7,
     "metadata": {},
     "output_type": "execute_result"
    }
   ],
   "source": [
    "df1a.dtypes"
   ],
   "metadata": {
    "collapsed": false,
    "pycharm": {
     "name": "#%%\n"
    }
   }
  },
  {
   "cell_type": "code",
   "execution_count": 8,
   "outputs": [
    {
     "data": {
      "text/plain": "Entity                                                         208\nCode                                                           170\nYear                                                            50\nLiteracy rate, adult total (% of people ages 15 and above)    2408\ndtype: int64"
     },
     "execution_count": 8,
     "metadata": {},
     "output_type": "execute_result"
    }
   ],
   "source": [
    "df1a.nunique()"
   ],
   "metadata": {
    "collapsed": false,
    "pycharm": {
     "name": "#%%\n"
    }
   }
  },
  {
   "cell_type": "code",
   "execution_count": 9,
   "outputs": [
    {
     "data": {
      "text/plain": "Middle East & North Africa (IDA & IBRD)               49\nMiddle East & North Africa (excluding high income)    48\nMiddle East & North Africa                            47\nLatin America & Caribbean (excluding high income)     46\nLatin America & Caribbean                             46\n                                                      ..\nMarshall Islands                                       1\nNorth Korea                                            1\nSan Marino                                             1\nAmerican Samoa                                         1\nCzechia                                                1\nName: Entity, Length: 208, dtype: int64"
     },
     "execution_count": 9,
     "metadata": {},
     "output_type": "execute_result"
    }
   ],
   "source": [
    "entity1a = df1a[\"Entity\"].value_counts()\n",
    "entity1a"
   ],
   "metadata": {
    "collapsed": false,
    "pycharm": {
     "name": "#%%\n"
    }
   }
  },
  {
   "cell_type": "code",
   "execution_count": 10,
   "outputs": [
    {
     "data": {
      "text/plain": "                Literacy rate, adult total (% of people ages 15 and above)\nEntity                                                                    \nAfghanistan                                             30.875416         \nAlbania                                                 97.377008         \nAlgeria                                                 69.739388         \nAmerican Samoa                                          97.344162         \nAngola                                                  66.717766         \n...                                                           ...         \nVietnam                                                 90.062941         \nWorld                                                   77.820765         \nYemen                                                   45.594999         \nZambia                                                  72.172003         \nZimbabwe                                                83.395720         \n\n[208 rows x 1 columns]",
      "text/html": "<div>\n<style scoped>\n    .dataframe tbody tr th:only-of-type {\n        vertical-align: middle;\n    }\n\n    .dataframe tbody tr th {\n        vertical-align: top;\n    }\n\n    .dataframe thead th {\n        text-align: right;\n    }\n</style>\n<table border=\"1\" class=\"dataframe\">\n  <thead>\n    <tr style=\"text-align: right;\">\n      <th></th>\n      <th>Literacy rate, adult total (% of people ages 15 and above)</th>\n    </tr>\n    <tr>\n      <th>Entity</th>\n      <th></th>\n    </tr>\n  </thead>\n  <tbody>\n    <tr>\n      <th>Afghanistan</th>\n      <td>30.875416</td>\n    </tr>\n    <tr>\n      <th>Albania</th>\n      <td>97.377008</td>\n    </tr>\n    <tr>\n      <th>Algeria</th>\n      <td>69.739388</td>\n    </tr>\n    <tr>\n      <th>American Samoa</th>\n      <td>97.344162</td>\n    </tr>\n    <tr>\n      <th>Angola</th>\n      <td>66.717766</td>\n    </tr>\n    <tr>\n      <th>...</th>\n      <td>...</td>\n    </tr>\n    <tr>\n      <th>Vietnam</th>\n      <td>90.062941</td>\n    </tr>\n    <tr>\n      <th>World</th>\n      <td>77.820765</td>\n    </tr>\n    <tr>\n      <th>Yemen</th>\n      <td>45.594999</td>\n    </tr>\n    <tr>\n      <th>Zambia</th>\n      <td>72.172003</td>\n    </tr>\n    <tr>\n      <th>Zimbabwe</th>\n      <td>83.395720</td>\n    </tr>\n  </tbody>\n</table>\n<p>208 rows × 1 columns</p>\n</div>"
     },
     "execution_count": 10,
     "metadata": {},
     "output_type": "execute_result"
    }
   ],
   "source": [
    "literacy1 = df1a.groupby([\"Entity\"])[[\"Literacy rate, adult total (% of people ages 15 and above)\"]].agg(num.mean)\n",
    "literacy1"
   ],
   "metadata": {
    "collapsed": false,
    "pycharm": {
     "name": "#%%\n"
    }
   }
  },
  {
   "cell_type": "code",
   "execution_count": 11,
   "outputs": [
    {
     "data": {
      "text/plain": "             Entity  \\\n0       Afghanistan   \n1           Albania   \n2           Algeria   \n3    American Samoa   \n4            Angola   \n..              ...   \n203         Vietnam   \n204           World   \n205           Yemen   \n206          Zambia   \n207        Zimbabwe   \n\n     Literacy rate, adult total (% of people ages 15 and above)  \n0                                            30.875416           \n1                                            97.377008           \n2                                            69.739388           \n3                                            97.344162           \n4                                            66.717766           \n..                                                 ...           \n203                                          90.062941           \n204                                          77.820765           \n205                                          45.594999           \n206                                          72.172003           \n207                                          83.395720           \n\n[208 rows x 2 columns]",
      "text/html": "<div>\n<style scoped>\n    .dataframe tbody tr th:only-of-type {\n        vertical-align: middle;\n    }\n\n    .dataframe tbody tr th {\n        vertical-align: top;\n    }\n\n    .dataframe thead th {\n        text-align: right;\n    }\n</style>\n<table border=\"1\" class=\"dataframe\">\n  <thead>\n    <tr style=\"text-align: right;\">\n      <th></th>\n      <th>Entity</th>\n      <th>Literacy rate, adult total (% of people ages 15 and above)</th>\n    </tr>\n  </thead>\n  <tbody>\n    <tr>\n      <th>0</th>\n      <td>Afghanistan</td>\n      <td>30.875416</td>\n    </tr>\n    <tr>\n      <th>1</th>\n      <td>Albania</td>\n      <td>97.377008</td>\n    </tr>\n    <tr>\n      <th>2</th>\n      <td>Algeria</td>\n      <td>69.739388</td>\n    </tr>\n    <tr>\n      <th>3</th>\n      <td>American Samoa</td>\n      <td>97.344162</td>\n    </tr>\n    <tr>\n      <th>4</th>\n      <td>Angola</td>\n      <td>66.717766</td>\n    </tr>\n    <tr>\n      <th>...</th>\n      <td>...</td>\n      <td>...</td>\n    </tr>\n    <tr>\n      <th>203</th>\n      <td>Vietnam</td>\n      <td>90.062941</td>\n    </tr>\n    <tr>\n      <th>204</th>\n      <td>World</td>\n      <td>77.820765</td>\n    </tr>\n    <tr>\n      <th>205</th>\n      <td>Yemen</td>\n      <td>45.594999</td>\n    </tr>\n    <tr>\n      <th>206</th>\n      <td>Zambia</td>\n      <td>72.172003</td>\n    </tr>\n    <tr>\n      <th>207</th>\n      <td>Zimbabwe</td>\n      <td>83.395720</td>\n    </tr>\n  </tbody>\n</table>\n<p>208 rows × 2 columns</p>\n</div>"
     },
     "execution_count": 11,
     "metadata": {},
     "output_type": "execute_result"
    }
   ],
   "source": [
    "literacy1 = literacy1.sort_values(by=\"Entity\",ascending=True).reset_index()\n",
    "literacy1"
   ],
   "metadata": {
    "collapsed": false,
    "pycharm": {
     "name": "#%%\n"
    }
   }
  },
  {
   "cell_type": "code",
   "execution_count": 12,
   "outputs": [],
   "source": [
    "# save as csv file\n",
    "literacy1.to_csv(\"rankbyliteracy.csv\", index=False)"
   ],
   "metadata": {
    "collapsed": false,
    "pycharm": {
     "name": "#%%\n"
    }
   }
  },
  {
   "cell_type": "code",
   "execution_count": 13,
   "outputs": [],
   "source": [
    "# https://ourworldindata.org/literacy\n",
    "# Get the data\n",
    "df1b = pan.read_csv(\"mobile-cellular-subscriptions-per-100-people.csv\")"
   ],
   "metadata": {
    "collapsed": false,
    "pycharm": {
     "name": "#%%\n"
    }
   }
  },
  {
   "cell_type": "code",
   "execution_count": 14,
   "outputs": [
    {
     "data": {
      "text/plain": "        Entity Code  Year  Mobile cellular subscriptions (per 100 people)\n0  Afghanistan  AFG  1960                                             0.0\n1  Afghanistan  AFG  1965                                             0.0\n2  Afghanistan  AFG  1970                                             0.0\n3  Afghanistan  AFG  1975                                             0.0\n4  Afghanistan  AFG  1976                                             0.0",
      "text/html": "<div>\n<style scoped>\n    .dataframe tbody tr th:only-of-type {\n        vertical-align: middle;\n    }\n\n    .dataframe tbody tr th {\n        vertical-align: top;\n    }\n\n    .dataframe thead th {\n        text-align: right;\n    }\n</style>\n<table border=\"1\" class=\"dataframe\">\n  <thead>\n    <tr style=\"text-align: right;\">\n      <th></th>\n      <th>Entity</th>\n      <th>Code</th>\n      <th>Year</th>\n      <th>Mobile cellular subscriptions (per 100 people)</th>\n    </tr>\n  </thead>\n  <tbody>\n    <tr>\n      <th>0</th>\n      <td>Afghanistan</td>\n      <td>AFG</td>\n      <td>1960</td>\n      <td>0.0</td>\n    </tr>\n    <tr>\n      <th>1</th>\n      <td>Afghanistan</td>\n      <td>AFG</td>\n      <td>1965</td>\n      <td>0.0</td>\n    </tr>\n    <tr>\n      <th>2</th>\n      <td>Afghanistan</td>\n      <td>AFG</td>\n      <td>1970</td>\n      <td>0.0</td>\n    </tr>\n    <tr>\n      <th>3</th>\n      <td>Afghanistan</td>\n      <td>AFG</td>\n      <td>1975</td>\n      <td>0.0</td>\n    </tr>\n    <tr>\n      <th>4</th>\n      <td>Afghanistan</td>\n      <td>AFG</td>\n      <td>1976</td>\n      <td>0.0</td>\n    </tr>\n  </tbody>\n</table>\n</div>"
     },
     "execution_count": 14,
     "metadata": {},
     "output_type": "execute_result"
    }
   ],
   "source": [
    "df1b.head()"
   ],
   "metadata": {
    "collapsed": false,
    "pycharm": {
     "name": "#%%\n"
    }
   }
  },
  {
   "cell_type": "code",
   "execution_count": 15,
   "outputs": [
    {
     "data": {
      "text/plain": "(11895, 4)"
     },
     "execution_count": 15,
     "metadata": {},
     "output_type": "execute_result"
    }
   ],
   "source": [
    "df1b.shape"
   ],
   "metadata": {
    "collapsed": false,
    "pycharm": {
     "name": "#%%\n"
    }
   }
  },
  {
   "cell_type": "code",
   "execution_count": 16,
   "outputs": [
    {
     "data": {
      "text/plain": "Entity                                             object\nCode                                               object\nYear                                                int64\nMobile cellular subscriptions (per 100 people)    float64\ndtype: object"
     },
     "execution_count": 16,
     "metadata": {},
     "output_type": "execute_result"
    }
   ],
   "source": [
    "df1b.dtypes"
   ],
   "metadata": {
    "collapsed": false,
    "pycharm": {
     "name": "#%%\n"
    }
   }
  },
  {
   "cell_type": "code",
   "execution_count": 17,
   "outputs": [
    {
     "data": {
      "text/plain": "Entity                                             262\nCode                                               215\nYear                                                48\nMobile cellular subscriptions (per 100 people)    7084\ndtype: int64"
     },
     "execution_count": 17,
     "metadata": {},
     "output_type": "execute_result"
    }
   ],
   "source": [
    "df1b.nunique()"
   ],
   "metadata": {
    "collapsed": false,
    "pycharm": {
     "name": "#%%\n"
    }
   }
  },
  {
   "cell_type": "code",
   "execution_count": 18,
   "outputs": [
    {
     "data": {
      "text/plain": "Afghanistan                  48\nIDA & IBRD total             48\nLithuania                    48\nLow & middle income          48\nLower middle income          48\n                             ..\nPalau                        14\nCuracao                      11\nSouth Sudan                  10\nKosovo                        6\nSint Maarten (Dutch part)     1\nName: Entity, Length: 262, dtype: int64"
     },
     "execution_count": 18,
     "metadata": {},
     "output_type": "execute_result"
    }
   ],
   "source": [
    "entity1b = df1b[\"Entity\"].value_counts()\n",
    "entity1b"
   ],
   "metadata": {
    "collapsed": false,
    "pycharm": {
     "name": "#%%\n"
    }
   }
  },
  {
   "cell_type": "code",
   "execution_count": 19,
   "outputs": [
    {
     "data": {
      "text/plain": "                             Mobile cellular subscriptions (per 100 people)\nEntity                                                                     \nAfghanistan                                                       13.339800\nAfrica Eastern and Southern                                       15.619950\nAfrica Western and Central                                        19.599950\nAlbania                                                           32.424179\nAlgeria                                                           29.932378\n...                                                                     ...\nVietnam                                                           34.931780\nWorld                                                             27.604891\nYemen                                                             13.632878\nZambia                                                            17.323122\nZimbabwe                                                          20.068727\n\n[262 rows x 1 columns]",
      "text/html": "<div>\n<style scoped>\n    .dataframe tbody tr th:only-of-type {\n        vertical-align: middle;\n    }\n\n    .dataframe tbody tr th {\n        vertical-align: top;\n    }\n\n    .dataframe thead th {\n        text-align: right;\n    }\n</style>\n<table border=\"1\" class=\"dataframe\">\n  <thead>\n    <tr style=\"text-align: right;\">\n      <th></th>\n      <th>Mobile cellular subscriptions (per 100 people)</th>\n    </tr>\n    <tr>\n      <th>Entity</th>\n      <th></th>\n    </tr>\n  </thead>\n  <tbody>\n    <tr>\n      <th>Afghanistan</th>\n      <td>13.339800</td>\n    </tr>\n    <tr>\n      <th>Africa Eastern and Southern</th>\n      <td>15.619950</td>\n    </tr>\n    <tr>\n      <th>Africa Western and Central</th>\n      <td>19.599950</td>\n    </tr>\n    <tr>\n      <th>Albania</th>\n      <td>32.424179</td>\n    </tr>\n    <tr>\n      <th>Algeria</th>\n      <td>29.932378</td>\n    </tr>\n    <tr>\n      <th>...</th>\n      <td>...</td>\n    </tr>\n    <tr>\n      <th>Vietnam</th>\n      <td>34.931780</td>\n    </tr>\n    <tr>\n      <th>World</th>\n      <td>27.604891</td>\n    </tr>\n    <tr>\n      <th>Yemen</th>\n      <td>13.632878</td>\n    </tr>\n    <tr>\n      <th>Zambia</th>\n      <td>17.323122</td>\n    </tr>\n    <tr>\n      <th>Zimbabwe</th>\n      <td>20.068727</td>\n    </tr>\n  </tbody>\n</table>\n<p>262 rows × 1 columns</p>\n</div>"
     },
     "execution_count": 19,
     "metadata": {},
     "output_type": "execute_result"
    }
   ],
   "source": [
    "mobile1 = df1b.groupby([\"Entity\"])[[\"Mobile cellular subscriptions (per 100 people)\"]].agg(num.mean)\n",
    "mobile1"
   ],
   "metadata": {
    "collapsed": false,
    "pycharm": {
     "name": "#%%\n"
    }
   }
  },
  {
   "cell_type": "code",
   "execution_count": 20,
   "outputs": [
    {
     "data": {
      "text/plain": "                          Entity  \\\n0                    Afghanistan   \n1    Africa Eastern and Southern   \n2     Africa Western and Central   \n3                        Albania   \n4                        Algeria   \n..                           ...   \n257                      Vietnam   \n258                        World   \n259                        Yemen   \n260                       Zambia   \n261                     Zimbabwe   \n\n     Mobile cellular subscriptions (per 100 people)  \n0                                         13.339800  \n1                                         15.619950  \n2                                         19.599950  \n3                                         32.424179  \n4                                         29.932378  \n..                                              ...  \n257                                       34.931780  \n258                                       27.604891  \n259                                       13.632878  \n260                                       17.323122  \n261                                       20.068727  \n\n[262 rows x 2 columns]",
      "text/html": "<div>\n<style scoped>\n    .dataframe tbody tr th:only-of-type {\n        vertical-align: middle;\n    }\n\n    .dataframe tbody tr th {\n        vertical-align: top;\n    }\n\n    .dataframe thead th {\n        text-align: right;\n    }\n</style>\n<table border=\"1\" class=\"dataframe\">\n  <thead>\n    <tr style=\"text-align: right;\">\n      <th></th>\n      <th>Entity</th>\n      <th>Mobile cellular subscriptions (per 100 people)</th>\n    </tr>\n  </thead>\n  <tbody>\n    <tr>\n      <th>0</th>\n      <td>Afghanistan</td>\n      <td>13.339800</td>\n    </tr>\n    <tr>\n      <th>1</th>\n      <td>Africa Eastern and Southern</td>\n      <td>15.619950</td>\n    </tr>\n    <tr>\n      <th>2</th>\n      <td>Africa Western and Central</td>\n      <td>19.599950</td>\n    </tr>\n    <tr>\n      <th>3</th>\n      <td>Albania</td>\n      <td>32.424179</td>\n    </tr>\n    <tr>\n      <th>4</th>\n      <td>Algeria</td>\n      <td>29.932378</td>\n    </tr>\n    <tr>\n      <th>...</th>\n      <td>...</td>\n      <td>...</td>\n    </tr>\n    <tr>\n      <th>257</th>\n      <td>Vietnam</td>\n      <td>34.931780</td>\n    </tr>\n    <tr>\n      <th>258</th>\n      <td>World</td>\n      <td>27.604891</td>\n    </tr>\n    <tr>\n      <th>259</th>\n      <td>Yemen</td>\n      <td>13.632878</td>\n    </tr>\n    <tr>\n      <th>260</th>\n      <td>Zambia</td>\n      <td>17.323122</td>\n    </tr>\n    <tr>\n      <th>261</th>\n      <td>Zimbabwe</td>\n      <td>20.068727</td>\n    </tr>\n  </tbody>\n</table>\n<p>262 rows × 2 columns</p>\n</div>"
     },
     "execution_count": 20,
     "metadata": {},
     "output_type": "execute_result"
    }
   ],
   "source": [
    "mobile1 = mobile1.sort_values(by=\"Entity\",ascending=True).reset_index()\n",
    "mobile1"
   ],
   "metadata": {
    "collapsed": false,
    "pycharm": {
     "name": "#%%\n"
    }
   }
  },
  {
   "cell_type": "code",
   "execution_count": 21,
   "outputs": [],
   "source": [
    "mobile1.to_csv(\"rankbymobile.csv\", index=False)"
   ],
   "metadata": {
    "collapsed": false,
    "pycharm": {
     "name": "#%%\n"
    }
   }
  },
  {
   "cell_type": "code",
   "execution_count": 21,
   "outputs": [],
   "source": [],
   "metadata": {
    "collapsed": false,
    "pycharm": {
     "name": "#%%\n"
    }
   }
  },
  {
   "cell_type": "code",
   "execution_count": 22,
   "outputs": [],
   "source": [
    "# Prepare the data for the selected countries\n",
    "countrylist = [\"Argentina\",\"Brazil\",\"China\",\"Egypt\",\"Israel\",\"Saudi Arabia\",\"South Africa\"]"
   ],
   "metadata": {
    "collapsed": false,
    "pycharm": {
     "name": "#%%\n"
    }
   }
  },
  {
   "cell_type": "code",
   "execution_count": 23,
   "outputs": [
    {
     "data": {
      "text/plain": "           Name\n0     Argentina\n1        Brazil\n2         China\n3         Egypt\n4        Israel\n5  Saudi Arabia\n6  South Africa",
      "text/html": "<div>\n<style scoped>\n    .dataframe tbody tr th:only-of-type {\n        vertical-align: middle;\n    }\n\n    .dataframe tbody tr th {\n        vertical-align: top;\n    }\n\n    .dataframe thead th {\n        text-align: right;\n    }\n</style>\n<table border=\"1\" class=\"dataframe\">\n  <thead>\n    <tr style=\"text-align: right;\">\n      <th></th>\n      <th>Name</th>\n    </tr>\n  </thead>\n  <tbody>\n    <tr>\n      <th>0</th>\n      <td>Argentina</td>\n    </tr>\n    <tr>\n      <th>1</th>\n      <td>Brazil</td>\n    </tr>\n    <tr>\n      <th>2</th>\n      <td>China</td>\n    </tr>\n    <tr>\n      <th>3</th>\n      <td>Egypt</td>\n    </tr>\n    <tr>\n      <th>4</th>\n      <td>Israel</td>\n    </tr>\n    <tr>\n      <th>5</th>\n      <td>Saudi Arabia</td>\n    </tr>\n    <tr>\n      <th>6</th>\n      <td>South Africa</td>\n    </tr>\n  </tbody>\n</table>\n</div>"
     },
     "execution_count": 23,
     "metadata": {},
     "output_type": "execute_result"
    }
   ],
   "source": [
    "countrylist = pan.DataFrame(countrylist,columns=[\"Name\"])\n",
    "countrylist"
   ],
   "metadata": {
    "collapsed": false,
    "pycharm": {
     "name": "#%%\n"
    }
   }
  },
  {
   "cell_type": "code",
   "execution_count": 24,
   "outputs": [],
   "source": [
    "countrylist[\"Literacy\"] = 0.0\n",
    "countrylist[\"Mobile Adoption\"] = 0.0"
   ],
   "metadata": {
    "collapsed": false,
    "pycharm": {
     "name": "#%%\n"
    }
   }
  },
  {
   "cell_type": "code",
   "execution_count": 25,
   "outputs": [
    {
     "data": {
      "text/plain": "           Name  Literacy  Mobile Adoption\n0     Argentina       0.0              0.0\n1        Brazil       0.0              0.0\n2         China       0.0              0.0\n3         Egypt       0.0              0.0\n4        Israel       0.0              0.0\n5  Saudi Arabia       0.0              0.0\n6  South Africa       0.0              0.0",
      "text/html": "<div>\n<style scoped>\n    .dataframe tbody tr th:only-of-type {\n        vertical-align: middle;\n    }\n\n    .dataframe tbody tr th {\n        vertical-align: top;\n    }\n\n    .dataframe thead th {\n        text-align: right;\n    }\n</style>\n<table border=\"1\" class=\"dataframe\">\n  <thead>\n    <tr style=\"text-align: right;\">\n      <th></th>\n      <th>Name</th>\n      <th>Literacy</th>\n      <th>Mobile Adoption</th>\n    </tr>\n  </thead>\n  <tbody>\n    <tr>\n      <th>0</th>\n      <td>Argentina</td>\n      <td>0.0</td>\n      <td>0.0</td>\n    </tr>\n    <tr>\n      <th>1</th>\n      <td>Brazil</td>\n      <td>0.0</td>\n      <td>0.0</td>\n    </tr>\n    <tr>\n      <th>2</th>\n      <td>China</td>\n      <td>0.0</td>\n      <td>0.0</td>\n    </tr>\n    <tr>\n      <th>3</th>\n      <td>Egypt</td>\n      <td>0.0</td>\n      <td>0.0</td>\n    </tr>\n    <tr>\n      <th>4</th>\n      <td>Israel</td>\n      <td>0.0</td>\n      <td>0.0</td>\n    </tr>\n    <tr>\n      <th>5</th>\n      <td>Saudi Arabia</td>\n      <td>0.0</td>\n      <td>0.0</td>\n    </tr>\n    <tr>\n      <th>6</th>\n      <td>South Africa</td>\n      <td>0.0</td>\n      <td>0.0</td>\n    </tr>\n  </tbody>\n</table>\n</div>"
     },
     "execution_count": 25,
     "metadata": {},
     "output_type": "execute_result"
    }
   ],
   "source": [
    "countrylist"
   ],
   "metadata": {
    "collapsed": false,
    "pycharm": {
     "name": "#%%\n"
    }
   }
  },
  {
   "cell_type": "code",
   "execution_count": 28,
   "outputs": [
    {
     "data": {
      "text/plain": "7"
     },
     "execution_count": 28,
     "metadata": {},
     "output_type": "execute_result"
    }
   ],
   "source": [
    "lencountry = len(countrylist)\n",
    "lencountry"
   ],
   "metadata": {
    "collapsed": false,
    "pycharm": {
     "name": "#%%\n"
    }
   }
  },
  {
   "cell_type": "code",
   "execution_count": 31,
   "outputs": [],
   "source": [
    "count1=0\n",
    "for ind1 in range(len(literacy1)):\n",
    "    if (count1 < lencountry):\n",
    "        if (countrylist[\"Name\"][count1] == literacy1[\"Entity\"][ind1]):\n",
    "            countrylist.loc[0:lencountry,\"Literacy\"][count1] = literacy1[\"Literacy rate, adult total (% of people ages 15 and above)\"][ind1]\n",
    "            count1+=1"
   ],
   "metadata": {
    "collapsed": false,
    "pycharm": {
     "name": "#%%\n"
    }
   }
  },
  {
   "cell_type": "code",
   "execution_count": 32,
   "outputs": [
    {
     "data": {
      "text/plain": "           Name   Literacy  Mobile Adoption\n0     Argentina  98.256486              0.0\n1        Brazil  89.814493              0.0\n2         China  85.235146              0.0\n3         Egypt  62.381525              0.0\n4        Israel  91.751411              0.0\n5  Saudi Arabia  84.557059              0.0\n6  South Africa  89.547812              0.0",
      "text/html": "<div>\n<style scoped>\n    .dataframe tbody tr th:only-of-type {\n        vertical-align: middle;\n    }\n\n    .dataframe tbody tr th {\n        vertical-align: top;\n    }\n\n    .dataframe thead th {\n        text-align: right;\n    }\n</style>\n<table border=\"1\" class=\"dataframe\">\n  <thead>\n    <tr style=\"text-align: right;\">\n      <th></th>\n      <th>Name</th>\n      <th>Literacy</th>\n      <th>Mobile Adoption</th>\n    </tr>\n  </thead>\n  <tbody>\n    <tr>\n      <th>0</th>\n      <td>Argentina</td>\n      <td>98.256486</td>\n      <td>0.0</td>\n    </tr>\n    <tr>\n      <th>1</th>\n      <td>Brazil</td>\n      <td>89.814493</td>\n      <td>0.0</td>\n    </tr>\n    <tr>\n      <th>2</th>\n      <td>China</td>\n      <td>85.235146</td>\n      <td>0.0</td>\n    </tr>\n    <tr>\n      <th>3</th>\n      <td>Egypt</td>\n      <td>62.381525</td>\n      <td>0.0</td>\n    </tr>\n    <tr>\n      <th>4</th>\n      <td>Israel</td>\n      <td>91.751411</td>\n      <td>0.0</td>\n    </tr>\n    <tr>\n      <th>5</th>\n      <td>Saudi Arabia</td>\n      <td>84.557059</td>\n      <td>0.0</td>\n    </tr>\n    <tr>\n      <th>6</th>\n      <td>South Africa</td>\n      <td>89.547812</td>\n      <td>0.0</td>\n    </tr>\n  </tbody>\n</table>\n</div>"
     },
     "execution_count": 32,
     "metadata": {},
     "output_type": "execute_result"
    }
   ],
   "source": [
    "countrylist"
   ],
   "metadata": {
    "collapsed": false,
    "pycharm": {
     "name": "#%%\n"
    }
   }
  },
  {
   "cell_type": "code",
   "execution_count": 33,
   "outputs": [],
   "source": [
    "count2=0\n",
    "for ind1 in range(len(mobile1)):\n",
    "    if (count2 < lencountry):\n",
    "        if (countrylist[\"Name\"][count2] == mobile1[\"Entity\"][ind1]):\n",
    "            countrylist.loc[0:lencountry,\"Mobile Adoption\"][count2] = mobile1[\"Mobile cellular subscriptions (per 100 people)\"][ind1]\n",
    "            count2+=1"
   ],
   "metadata": {
    "collapsed": false,
    "pycharm": {
     "name": "#%%\n"
    }
   }
  },
  {
   "cell_type": "code",
   "execution_count": 34,
   "outputs": [
    {
     "data": {
      "text/plain": "           Name   Literacy  Mobile Adoption\n0     Argentina  98.256486        42.793419\n1        Brazil  89.814493        33.777981\n2         China  85.235146        25.368800\n3         Egypt  62.381525        26.001571\n4        Israel  91.751411        84.371824\n5  Saudi Arabia  84.557059        75.703426\n6  South Africa  89.547812        42.231826",
      "text/html": "<div>\n<style scoped>\n    .dataframe tbody tr th:only-of-type {\n        vertical-align: middle;\n    }\n\n    .dataframe tbody tr th {\n        vertical-align: top;\n    }\n\n    .dataframe thead th {\n        text-align: right;\n    }\n</style>\n<table border=\"1\" class=\"dataframe\">\n  <thead>\n    <tr style=\"text-align: right;\">\n      <th></th>\n      <th>Name</th>\n      <th>Literacy</th>\n      <th>Mobile Adoption</th>\n    </tr>\n  </thead>\n  <tbody>\n    <tr>\n      <th>0</th>\n      <td>Argentina</td>\n      <td>98.256486</td>\n      <td>42.793419</td>\n    </tr>\n    <tr>\n      <th>1</th>\n      <td>Brazil</td>\n      <td>89.814493</td>\n      <td>33.777981</td>\n    </tr>\n    <tr>\n      <th>2</th>\n      <td>China</td>\n      <td>85.235146</td>\n      <td>25.368800</td>\n    </tr>\n    <tr>\n      <th>3</th>\n      <td>Egypt</td>\n      <td>62.381525</td>\n      <td>26.001571</td>\n    </tr>\n    <tr>\n      <th>4</th>\n      <td>Israel</td>\n      <td>91.751411</td>\n      <td>84.371824</td>\n    </tr>\n    <tr>\n      <th>5</th>\n      <td>Saudi Arabia</td>\n      <td>84.557059</td>\n      <td>75.703426</td>\n    </tr>\n    <tr>\n      <th>6</th>\n      <td>South Africa</td>\n      <td>89.547812</td>\n      <td>42.231826</td>\n    </tr>\n  </tbody>\n</table>\n</div>"
     },
     "execution_count": 34,
     "metadata": {},
     "output_type": "execute_result"
    }
   ],
   "source": [
    "countrylist"
   ],
   "metadata": {
    "collapsed": false,
    "pycharm": {
     "name": "#%%\n"
    }
   }
  },
  {
   "cell_type": "code",
   "execution_count": 35,
   "outputs": [],
   "source": [
    "# Explore the relationship"
   ],
   "metadata": {
    "collapsed": false,
    "pycharm": {
     "name": "#%%\n"
    }
   }
  },
  {
   "cell_type": "code",
   "execution_count": 36,
   "outputs": [
    {
     "data": {
      "text/plain": "<Figure size 432x288 with 1 Axes>",
      "image/png": "[encoded data removed]"
     },
     "metadata": {
      "needs_background": "light"
     },
     "output_type": "display_data"
    }
   ],
   "source": [
    "mat.scatter(countrylist[\"Literacy\"],countrylist[\"Mobile Adoption\"])\n",
    "mat.xlabel(\"Literacy\")\n",
    "mat.ylabel(\"Mobile Adoption\")\n",
    "mat.show()"
   ],
   "metadata": {
    "collapsed": false,
    "pycharm": {
     "name": "#%%\n"
    }
   }
  },
  {
   "cell_type": "markdown",
   "source": [],
   "metadata": {
    "collapsed": false
   }
  },
  {
   "cell_type": "code",
   "execution_count": 37,
   "outputs": [
    {
     "data": {
      "text/plain": "                 Literacy  Mobile Adoption\nLiteracy         1.000000         0.353238\nMobile Adoption  0.353238         1.000000",
      "text/html": "<div>\n<style scoped>\n    .dataframe tbody tr th:only-of-type {\n        vertical-align: middle;\n    }\n\n    .dataframe tbody tr th {\n        vertical-align: top;\n    }\n\n    .dataframe thead th {\n        text-align: right;\n    }\n</style>\n<table border=\"1\" class=\"dataframe\">\n  <thead>\n    <tr style=\"text-align: right;\">\n      <th></th>\n      <th>Literacy</th>\n      <th>Mobile Adoption</th>\n    </tr>\n  </thead>\n  <tbody>\n    <tr>\n      <th>Literacy</th>\n      <td>1.000000</td>\n      <td>0.353238</td>\n    </tr>\n    <tr>\n      <th>Mobile Adoption</th>\n      <td>0.353238</td>\n      <td>1.000000</td>\n    </tr>\n  </tbody>\n</table>\n</div>"
     },
     "execution_count": 37,
     "metadata": {},
     "output_type": "execute_result"
    }
   ],
   "source": [
    "corr1 = countrylist[[\"Literacy\",\"Mobile Adoption\"]]\n",
    "corr1.corr()"
   ],
   "metadata": {
    "collapsed": false,
    "pycharm": {
     "name": "#%%\n"
    }
   }
  },
  {
   "cell_type": "markdown",
   "source": [
    "### Conclusion for scenario 1\n",
    "#### The correlation is positive, but it is not very strong."
   ],
   "metadata": {
    "collapsed": false,
    "pycharm": {
     "name": "#%% md\n"
    }
   }
  },
  {
   "cell_type": "code",
   "execution_count": 38,
   "outputs": [],
   "source": [
    "# scenario 2 - using categorical income level values with literacy mean or mobile adoption mean values"
   ],
   "metadata": {
    "collapsed": false,
    "pycharm": {
     "name": "#%%\n"
    }
   }
  },
  {
   "cell_type": "code",
   "execution_count": 39,
   "outputs": [],
   "source": [
    "# prepare the data on literacy rate\n",
    "con1a = df1a[\"Entity\"] == \"Upper middle income\"\n",
    "con1b = df1a[\"Entity\"] == \"Middle income\"\n",
    "con1c = df1a[\"Entity\"] == \"Low & middle income\""
   ],
   "metadata": {
    "collapsed": false,
    "pycharm": {
     "name": "#%%\n"
    }
   }
  },
  {
   "cell_type": "code",
   "execution_count": 40,
   "outputs": [],
   "source": [
    "lit1 = df1a[con1a+con1b+con1c]"
   ],
   "metadata": {
    "collapsed": false,
    "pycharm": {
     "name": "#%%\n"
    }
   }
  },
  {
   "cell_type": "code",
   "execution_count": 41,
   "outputs": [
    {
     "data": {
      "text/plain": "                   Entity Code  Year  \\\n1293  Low & middle income  NaN  1975   \n1294  Low & middle income  NaN  1976   \n1295  Low & middle income  NaN  1977   \n1296  Low & middle income  NaN  1978   \n1297  Low & middle income  NaN  1979   \n...                   ...  ...   ...   \n2400  Upper middle income  NaN  2015   \n2401  Upper middle income  NaN  2016   \n2402  Upper middle income  NaN  2017   \n2403  Upper middle income  NaN  2018   \n2404  Upper middle income  NaN  2019   \n\n      Literacy rate, adult total (% of people ages 15 and above)  \n1293                                          59.013229           \n1294                                          59.126751           \n1295                                          59.418259           \n1296                                          60.088741           \n1297                                          60.732830           \n...                                                 ...           \n2400                                          95.099617           \n2401                                          95.623756           \n2402                                          95.670853           \n2403                                          95.451447           \n2404                                          95.648338           \n\n[134 rows x 4 columns]",
      "text/html": "<div>\n<style scoped>\n    .dataframe tbody tr th:only-of-type {\n        vertical-align: middle;\n    }\n\n    .dataframe tbody tr th {\n        vertical-align: top;\n    }\n\n    .dataframe thead th {\n        text-align: right;\n    }\n</style>\n<table border=\"1\" class=\"dataframe\">\n  <thead>\n    <tr style=\"text-align: right;\">\n      <th></th>\n      <th>Entity</th>\n      <th>Code</th>\n      <th>Year</th>\n      <th>Literacy rate, adult total (% of people ages 15 and above)</th>\n    </tr>\n  </thead>\n  <tbody>\n    <tr>\n      <th>1293</th>\n      <td>Low &amp; middle income</td>\n      <td>NaN</td>\n      <td>1975</td>\n      <td>59.013229</td>\n    </tr>\n    <tr>\n      <th>1294</th>\n      <td>Low &amp; middle income</td>\n      <td>NaN</td>\n      <td>1976</td>\n      <td>59.126751</td>\n    </tr>\n    <tr>\n      <th>1295</th>\n      <td>Low &amp; middle income</td>\n      <td>NaN</td>\n      <td>1977</td>\n      <td>59.418259</td>\n    </tr>\n    <tr>\n      <th>1296</th>\n      <td>Low &amp; middle income</td>\n      <td>NaN</td>\n      <td>1978</td>\n      <td>60.088741</td>\n    </tr>\n    <tr>\n      <th>1297</th>\n      <td>Low &amp; middle income</td>\n      <td>NaN</td>\n      <td>1979</td>\n      <td>60.732830</td>\n    </tr>\n    <tr>\n      <th>...</th>\n      <td>...</td>\n      <td>...</td>\n      <td>...</td>\n      <td>...</td>\n    </tr>\n    <tr>\n      <th>2400</th>\n      <td>Upper middle income</td>\n      <td>NaN</td>\n      <td>2015</td>\n      <td>95.099617</td>\n    </tr>\n    <tr>\n      <th>2401</th>\n      <td>Upper middle income</td>\n      <td>NaN</td>\n      <td>2016</td>\n      <td>95.623756</td>\n    </tr>\n    <tr>\n      <th>2402</th>\n      <td>Upper middle income</td>\n      <td>NaN</td>\n      <td>2017</td>\n      <td>95.670853</td>\n    </tr>\n    <tr>\n      <th>2403</th>\n      <td>Upper middle income</td>\n      <td>NaN</td>\n      <td>2018</td>\n      <td>95.451447</td>\n    </tr>\n    <tr>\n      <th>2404</th>\n      <td>Upper middle income</td>\n      <td>NaN</td>\n      <td>2019</td>\n      <td>95.648338</td>\n    </tr>\n  </tbody>\n</table>\n<p>134 rows × 4 columns</p>\n</div>"
     },
     "execution_count": 41,
     "metadata": {},
     "output_type": "execute_result"
    }
   ],
   "source": [
    "lit1"
   ],
   "metadata": {
    "collapsed": false,
    "pycharm": {
     "name": "#%%\n"
    }
   }
  },
  {
   "cell_type": "code",
   "execution_count": 42,
   "outputs": [
    {
     "data": {
      "text/plain": "                Entity  \\\n0  Low & middle income   \n1        Middle income   \n2  Upper middle income   \n\n   Literacy rate, adult total (% of people ages 15 and above)  \n0                                          73.169221           \n1                                          74.840029           \n2                                          85.642230           ",
      "text/html": "<div>\n<style scoped>\n    .dataframe tbody tr th:only-of-type {\n        vertical-align: middle;\n    }\n\n    .dataframe tbody tr th {\n        vertical-align: top;\n    }\n\n    .dataframe thead th {\n        text-align: right;\n    }\n</style>\n<table border=\"1\" class=\"dataframe\">\n  <thead>\n    <tr style=\"text-align: right;\">\n      <th></th>\n      <th>Entity</th>\n      <th>Literacy rate, adult total (% of people ages 15 and above)</th>\n    </tr>\n  </thead>\n  <tbody>\n    <tr>\n      <th>0</th>\n      <td>Low &amp; middle income</td>\n      <td>73.169221</td>\n    </tr>\n    <tr>\n      <th>1</th>\n      <td>Middle income</td>\n      <td>74.840029</td>\n    </tr>\n    <tr>\n      <th>2</th>\n      <td>Upper middle income</td>\n      <td>85.642230</td>\n    </tr>\n  </tbody>\n</table>\n</div>"
     },
     "execution_count": 42,
     "metadata": {},
     "output_type": "execute_result"
    }
   ],
   "source": [
    "lit1 = lit1.groupby([\"Entity\"])[[\"Literacy rate, adult total (% of people ages 15 and above)\"]].agg(num.mean).sort_index().reset_index()\n",
    "lit1"
   ],
   "metadata": {
    "collapsed": false,
    "pycharm": {
     "name": "#%%\n"
    }
   }
  },
  {
   "cell_type": "code",
   "execution_count": 43,
   "outputs": [],
   "source": [
    "# Since the data for literacy don't have \"High income\", we will use \"Upper middle income\" instead. We will change the name of \"Upper middle income\" to \"High income\"\n",
    "lit1.loc[0:,\"Entity\"][2] = \"High income\""
   ],
   "metadata": {
    "collapsed": false,
    "pycharm": {
     "name": "#%%\n"
    }
   }
  },
  {
   "cell_type": "code",
   "execution_count": 44,
   "outputs": [
    {
     "data": {
      "text/plain": "                Entity  \\\n0          High income   \n1        Middle income   \n2  Low & middle income   \n\n   Literacy rate, adult total (% of people ages 15 and above)  \n0                                          85.642230           \n1                                          74.840029           \n2                                          73.169221           ",
      "text/html": "<div>\n<style scoped>\n    .dataframe tbody tr th:only-of-type {\n        vertical-align: middle;\n    }\n\n    .dataframe tbody tr th {\n        vertical-align: top;\n    }\n\n    .dataframe thead th {\n        text-align: right;\n    }\n</style>\n<table border=\"1\" class=\"dataframe\">\n  <thead>\n    <tr style=\"text-align: right;\">\n      <th></th>\n      <th>Entity</th>\n      <th>Literacy rate, adult total (% of people ages 15 and above)</th>\n    </tr>\n  </thead>\n  <tbody>\n    <tr>\n      <th>0</th>\n      <td>High income</td>\n      <td>85.642230</td>\n    </tr>\n    <tr>\n      <th>1</th>\n      <td>Middle income</td>\n      <td>74.840029</td>\n    </tr>\n    <tr>\n      <th>2</th>\n      <td>Low &amp; middle income</td>\n      <td>73.169221</td>\n    </tr>\n  </tbody>\n</table>\n</div>"
     },
     "execution_count": 44,
     "metadata": {},
     "output_type": "execute_result"
    }
   ],
   "source": [
    "lit1 = lit1.sort_values(by=\"Literacy rate, adult total (% of people ages 15 and above)\",ascending=False).reset_index()\n",
    "# drop the old index column\n",
    "lit1 = lit1.drop(labels=\"index\", axis=1)\n",
    "lit1"
   ],
   "metadata": {
    "collapsed": false,
    "pycharm": {
     "name": "#%%\n"
    }
   }
  },
  {
   "cell_type": "code",
   "execution_count": 45,
   "outputs": [],
   "source": [
    "# prepare the data on mobile adoption rate\n",
    "con2a = df1b[\"Entity\"] == \"High income\"\n",
    "con2b = df1b[\"Entity\"] == \"Middle income\"\n",
    "con2c = df1b[\"Entity\"] == \"Low & middle income\""
   ],
   "metadata": {
    "collapsed": false,
    "pycharm": {
     "name": "#%%\n"
    }
   }
  },
  {
   "cell_type": "code",
   "execution_count": 46,
   "outputs": [],
   "source": [
    "mobile1 = df1b[con2a+con2b+con2c]"
   ],
   "metadata": {
    "collapsed": false,
    "pycharm": {
     "name": "#%%\n"
    }
   }
  },
  {
   "cell_type": "code",
   "execution_count": 47,
   "outputs": [
    {
     "data": {
      "text/plain": "             Entity Code  Year  Mobile cellular subscriptions (per 100 people)\n4654    High income  NaN  1960                                        0.000000\n4655    High income  NaN  1965                                        0.000000\n4656    High income  NaN  1970                                        0.000000\n4657    High income  NaN  1975                                        0.000000\n4658    High income  NaN  1976                                        0.000000\n...             ...  ...   ...                                             ...\n7374  Middle income  NaN  2015                                       96.326974\n7375  Middle income  NaN  2016                                      100.679979\n7376  Middle income  NaN  2017                                      103.652948\n7377  Middle income  NaN  2018                                      105.969850\n7378  Middle income  NaN  2019                                      108.609507\n\n[144 rows x 4 columns]",
      "text/html": "<div>\n<style scoped>\n    .dataframe tbody tr th:only-of-type {\n        vertical-align: middle;\n    }\n\n    .dataframe tbody tr th {\n        vertical-align: top;\n    }\n\n    .dataframe thead th {\n        text-align: right;\n    }\n</style>\n<table border=\"1\" class=\"dataframe\">\n  <thead>\n    <tr style=\"text-align: right;\">\n      <th></th>\n      <th>Entity</th>\n      <th>Code</th>\n      <th>Year</th>\n      <th>Mobile cellular subscriptions (per 100 people)</th>\n    </tr>\n  </thead>\n  <tbody>\n    <tr>\n      <th>4654</th>\n      <td>High income</td>\n      <td>NaN</td>\n      <td>1960</td>\n      <td>0.000000</td>\n    </tr>\n    <tr>\n      <th>4655</th>\n      <td>High income</td>\n      <td>NaN</td>\n      <td>1965</td>\n      <td>0.000000</td>\n    </tr>\n    <tr>\n      <th>4656</th>\n      <td>High income</td>\n      <td>NaN</td>\n      <td>1970</td>\n      <td>0.000000</td>\n    </tr>\n    <tr>\n      <th>4657</th>\n      <td>High income</td>\n      <td>NaN</td>\n      <td>1975</td>\n      <td>0.000000</td>\n    </tr>\n    <tr>\n      <th>4658</th>\n      <td>High income</td>\n      <td>NaN</td>\n      <td>1976</td>\n      <td>0.000000</td>\n    </tr>\n    <tr>\n      <th>...</th>\n      <td>...</td>\n      <td>...</td>\n      <td>...</td>\n      <td>...</td>\n    </tr>\n    <tr>\n      <th>7374</th>\n      <td>Middle income</td>\n      <td>NaN</td>\n      <td>2015</td>\n      <td>96.326974</td>\n    </tr>\n    <tr>\n      <th>7375</th>\n      <td>Middle income</td>\n      <td>NaN</td>\n      <td>2016</td>\n      <td>100.679979</td>\n    </tr>\n    <tr>\n      <th>7376</th>\n      <td>Middle income</td>\n      <td>NaN</td>\n      <td>2017</td>\n      <td>103.652948</td>\n    </tr>\n    <tr>\n      <th>7377</th>\n      <td>Middle income</td>\n      <td>NaN</td>\n      <td>2018</td>\n      <td>105.969850</td>\n    </tr>\n    <tr>\n      <th>7378</th>\n      <td>Middle income</td>\n      <td>NaN</td>\n      <td>2019</td>\n      <td>108.609507</td>\n    </tr>\n  </tbody>\n</table>\n<p>144 rows × 4 columns</p>\n</div>"
     },
     "execution_count": 47,
     "metadata": {},
     "output_type": "execute_result"
    }
   ],
   "source": [
    "mobile1"
   ],
   "metadata": {
    "collapsed": false,
    "pycharm": {
     "name": "#%%\n"
    }
   }
  },
  {
   "cell_type": "code",
   "execution_count": 48,
   "outputs": [
    {
     "data": {
      "text/plain": "                Entity  Mobile cellular subscriptions (per 100 people)\n0          High income                                       44.175227\n1  Low & middle income                                       24.207580\n2        Middle income                                       25.411833",
      "text/html": "<div>\n<style scoped>\n    .dataframe tbody tr th:only-of-type {\n        vertical-align: middle;\n    }\n\n    .dataframe tbody tr th {\n        vertical-align: top;\n    }\n\n    .dataframe thead th {\n        text-align: right;\n    }\n</style>\n<table border=\"1\" class=\"dataframe\">\n  <thead>\n    <tr style=\"text-align: right;\">\n      <th></th>\n      <th>Entity</th>\n      <th>Mobile cellular subscriptions (per 100 people)</th>\n    </tr>\n  </thead>\n  <tbody>\n    <tr>\n      <th>0</th>\n      <td>High income</td>\n      <td>44.175227</td>\n    </tr>\n    <tr>\n      <th>1</th>\n      <td>Low &amp; middle income</td>\n      <td>24.207580</td>\n    </tr>\n    <tr>\n      <th>2</th>\n      <td>Middle income</td>\n      <td>25.411833</td>\n    </tr>\n  </tbody>\n</table>\n</div>"
     },
     "execution_count": 48,
     "metadata": {},
     "output_type": "execute_result"
    }
   ],
   "source": [
    "mobile1 = mobile1.groupby([\"Entity\"])[[\"Mobile cellular subscriptions (per 100 people)\"]].agg(num.mean).sort_index().reset_index()\n",
    "mobile1"
   ],
   "metadata": {
    "collapsed": false,
    "pycharm": {
     "name": "#%%\n"
    }
   }
  },
  {
   "cell_type": "code",
   "execution_count": 49,
   "outputs": [],
   "source": [
    "# Explore the data"
   ],
   "metadata": {
    "collapsed": false,
    "pycharm": {
     "name": "#%%\n"
    }
   }
  },
  {
   "cell_type": "code",
   "execution_count": 50,
   "outputs": [
    {
     "data": {
      "text/plain": "<Figure size 432x288 with 1 Axes>",
      "image/png": "[encoded data removed]"
     },
     "metadata": {
      "needs_background": "light"
     },
     "output_type": "display_data"
    }
   ],
   "source": [
    "mat.scatter(lit1[\"Literacy rate, adult total (% of people ages 15 and above)\"],mobile1[\"Mobile cellular subscriptions (per 100 people)\"], color=\"green\")\n",
    "mat.xlabel(\"Literacy\")\n",
    "mat.ylabel(\"Mobile Adoption\")\n",
    "mat.show()"
   ],
   "metadata": {
    "collapsed": false,
    "pycharm": {
     "name": "#%%\n"
    }
   }
  },
  {
   "cell_type": "markdown",
   "source": [],
   "metadata": {
    "collapsed": false
   }
  },
  {
   "cell_type": "code",
   "execution_count": 51,
   "outputs": [],
   "source": [
    "com1 = pan.DataFrame(lit1[\"Literacy rate, adult total (% of people ages 15 and above)\"])"
   ],
   "metadata": {
    "collapsed": false,
    "pycharm": {
     "name": "#%%\n"
    }
   }
  },
  {
   "cell_type": "code",
   "execution_count": 52,
   "outputs": [
    {
     "data": {
      "text/plain": "   Literacy rate, adult total (% of people ages 15 and above)\n0                                          85.642230         \n1                                          74.840029         \n2                                          73.169221         ",
      "text/html": "<div>\n<style scoped>\n    .dataframe tbody tr th:only-of-type {\n        vertical-align: middle;\n    }\n\n    .dataframe tbody tr th {\n        vertical-align: top;\n    }\n\n    .dataframe thead th {\n        text-align: right;\n    }\n</style>\n<table border=\"1\" class=\"dataframe\">\n  <thead>\n    <tr style=\"text-align: right;\">\n      <th></th>\n      <th>Literacy rate, adult total (% of people ages 15 and above)</th>\n    </tr>\n  </thead>\n  <tbody>\n    <tr>\n      <th>0</th>\n      <td>85.642230</td>\n    </tr>\n    <tr>\n      <th>1</th>\n      <td>74.840029</td>\n    </tr>\n    <tr>\n      <th>2</th>\n      <td>73.169221</td>\n    </tr>\n  </tbody>\n</table>\n</div>"
     },
     "execution_count": 52,
     "metadata": {},
     "output_type": "execute_result"
    }
   ],
   "source": [
    "com1"
   ],
   "metadata": {
    "collapsed": false,
    "pycharm": {
     "name": "#%%\n"
    }
   }
  },
  {
   "cell_type": "code",
   "execution_count": 53,
   "outputs": [],
   "source": [
    "com1[\"Mobile Adoption\"] = mobile1[\"Mobile cellular subscriptions (per 100 people)\"]"
   ],
   "metadata": {
    "collapsed": false,
    "pycharm": {
     "name": "#%%\n"
    }
   }
  },
  {
   "cell_type": "markdown",
   "source": [],
   "metadata": {
    "collapsed": false,
    "pycharm": {
     "name": "#%% md\n"
    }
   }
  },
  {
   "cell_type": "code",
   "execution_count": 54,
   "outputs": [
    {
     "data": {
      "text/plain": "   Literacy rate, adult total (% of people ages 15 and above)  Mobile Adoption\n0                                          85.642230                 44.175227\n1                                          74.840029                 24.207580\n2                                          73.169221                 25.411833",
      "text/html": "<div>\n<style scoped>\n    .dataframe tbody tr th:only-of-type {\n        vertical-align: middle;\n    }\n\n    .dataframe tbody tr th {\n        vertical-align: top;\n    }\n\n    .dataframe thead th {\n        text-align: right;\n    }\n</style>\n<table border=\"1\" class=\"dataframe\">\n  <thead>\n    <tr style=\"text-align: right;\">\n      <th></th>\n      <th>Literacy rate, adult total (% of people ages 15 and above)</th>\n      <th>Mobile Adoption</th>\n    </tr>\n  </thead>\n  <tbody>\n    <tr>\n      <th>0</th>\n      <td>85.642230</td>\n      <td>44.175227</td>\n    </tr>\n    <tr>\n      <th>1</th>\n      <td>74.840029</td>\n      <td>24.207580</td>\n    </tr>\n    <tr>\n      <th>2</th>\n      <td>73.169221</td>\n      <td>25.411833</td>\n    </tr>\n  </tbody>\n</table>\n</div>"
     },
     "execution_count": 54,
     "metadata": {},
     "output_type": "execute_result"
    }
   ],
   "source": [
    "com1"
   ],
   "metadata": {
    "collapsed": false,
    "pycharm": {
     "name": "#%%\n"
    }
   }
  },
  {
   "cell_type": "code",
   "execution_count": 55,
   "outputs": [
    {
     "data": {
      "text/plain": "                                                    Literacy rate, adult total (% of people ages 15 and above)  \\\nLiteracy rate, adult total (% of people ages 15...                                           1.000000            \nMobile Adoption                                                                              0.984288            \n\n                                                    Mobile Adoption  \nLiteracy rate, adult total (% of people ages 15...         0.984288  \nMobile Adoption                                            1.000000  ",
      "text/html": "<div>\n<style scoped>\n    .dataframe tbody tr th:only-of-type {\n        vertical-align: middle;\n    }\n\n    .dataframe tbody tr th {\n        vertical-align: top;\n    }\n\n    .dataframe thead th {\n        text-align: right;\n    }\n</style>\n<table border=\"1\" class=\"dataframe\">\n  <thead>\n    <tr style=\"text-align: right;\">\n      <th></th>\n      <th>Literacy rate, adult total (% of people ages 15 and above)</th>\n      <th>Mobile Adoption</th>\n    </tr>\n  </thead>\n  <tbody>\n    <tr>\n      <th>Literacy rate, adult total (% of people ages 15 and above)</th>\n      <td>1.000000</td>\n      <td>0.984288</td>\n    </tr>\n    <tr>\n      <th>Mobile Adoption</th>\n      <td>0.984288</td>\n      <td>1.000000</td>\n    </tr>\n  </tbody>\n</table>\n</div>"
     },
     "execution_count": 55,
     "metadata": {},
     "output_type": "execute_result"
    }
   ],
   "source": [
    "com1.corr()"
   ],
   "metadata": {
    "collapsed": false,
    "pycharm": {
     "name": "#%%\n"
    }
   }
  },
  {
   "cell_type": "markdown",
   "source": [
    "### Conclusion for scenario 2\n",
    "#### The correlation is positive and is also very strong. The strong positive correlation shows that countries with higher literacy rate tend to have higher mobile adoption rate as well."
   ],
   "metadata": {
    "collapsed": false,
    "pycharm": {
     "name": "#%% md\n"
    }
   }
  },
  {
   "cell_type": "markdown",
   "source": [
    "### Summary\n",
    "#### The results for scenarios 1 and 2 showed the presence of confounding factor (income level) and is very important in influencing the correlation of the data. Countries with higher income tend to have higher literacy rate as well as higher mobile adoption rate. It could also suggest places with higher income tend to have higher technology adoption rate."
   ],
   "metadata": {
    "collapsed": false,
    "pycharm": {
     "name": "#%% md\n"
    }
   }
  }
 ],
 "metadata": {
  "kernelspec": {
   "display_name": "Python 3",
   "language": "python",
   "name": "python3"
  },
  "language_info": {
   "codemirror_mode": {
    "name": "ipython",
    "version": 2
   },
   "file_extension": ".py",
   "mimetype": "text/x-python",
   "name": "python",
   "nbconvert_exporter": "python",
   "pygments_lexer": "ipython2",
   "version": "2.7.6"
  }
 },
 "nbformat": 4,
 "nbformat_minor": 0
}